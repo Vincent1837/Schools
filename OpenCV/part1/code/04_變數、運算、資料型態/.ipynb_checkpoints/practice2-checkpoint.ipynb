{
 "cells": [
  {
   "cell_type": "markdown",
   "metadata": {},
   "source": [
    "# Lucky number\n",
    "# input a integer number, detect if the number is considered lucky. If the number is lucky, print \"lucky number\". If not, print \"regular number\"\n",
    "# Definition of lucky number: the sum of the first three digits equals the sum of the last three digits in a number."
   ]
  },
  {
   "cell_type": "code",
   "execution_count": 1,
   "metadata": {},
   "outputs": [
    {
     "name": "stdout",
     "output_type": "stream",
     "text": [
      "123321\n",
      "lucky number\n"
     ]
    }
   ],
   "source": [
    "b = int(input())\n",
    "## write your code here\n",
    "\n",
    "\n",
    "if s == s1:\n",
    "    print('lucky number!')\n",
    "else:\n",
    "    print('regular number')"
   ]
  },
  {
   "cell_type": "code",
   "execution_count": null,
   "metadata": {},
   "outputs": [],
   "source": []
  }
 ],
 "metadata": {
  "kernelspec": {
   "display_name": "Python 3",
   "language": "python",
   "name": "python3"
  },
  "language_info": {
   "codemirror_mode": {
    "name": "ipython",
    "version": 3
   },
   "file_extension": ".py",
   "mimetype": "text/x-python",
   "name": "python",
   "nbconvert_exporter": "python",
   "pygments_lexer": "ipython3",
   "version": "3.7.7"
  }
 },
 "nbformat": 4,
 "nbformat_minor": 4
}
