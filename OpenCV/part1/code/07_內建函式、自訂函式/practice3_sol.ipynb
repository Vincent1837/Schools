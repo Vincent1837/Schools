{
 "cells": [
  {
   "cell_type": "markdown",
   "metadata": {},
   "source": [
    "# Given a list of integers, return True if the array contains a 3 next to a 3 somewhere."
   ]
  },
  {
   "cell_type": "code",
   "execution_count": 18,
   "metadata": {},
   "outputs": [
    {
     "name": "stdout",
     "output_type": "stream",
     "text": [
      "Test #1: True\n",
      "Test #2: False\n",
      "Test #3: False\n"
     ]
    }
   ],
   "source": [
    "def has_33(nums):\n",
    "    for i in range(0,len(nums)-1):\n",
    "        if nums[i] == 3 and nums[i+1] == 3:\n",
    "            return True\n",
    "    return False\n",
    "\n",
    "print(\"Test #1: {}\".format(has_33([1, 3, 3])))\n",
    "print(\"Test #2: {}\".format(has_33([1, 3, 1, 3])))\n",
    "print(\"Test #3: {}\".format(has_33([3, 1, 3])))"
   ]
  },
  {
   "cell_type": "markdown",
   "metadata": {},
   "source": [
    "# BLACKJACK: Given three integers between 1 and 11, if their sum is less than or equal to 21, return their sum. If their sum exceeds 21 and there's an eleven, reduce the total sum by 10. Finally, if the sum (even after adjustment) exceeds 21, return 'BUST'"
   ]
  },
  {
   "cell_type": "code",
   "execution_count": 19,
   "metadata": {},
   "outputs": [
    {
     "name": "stdout",
     "output_type": "stream",
     "text": [
      "Test #1: 18\n",
      "Test #2: BUST\n",
      "Test #3: 19\n"
     ]
    }
   ],
   "source": [
    "def blackjack(a,b,c):\n",
    "    arr = [a,b,c]\n",
    "    summation = sum(arr)\n",
    "    if summation <= 21:\n",
    "        return summation\n",
    "    elif 11 in arr:\n",
    "        summation-=10\n",
    "    return 'BUST' if summation > 21 else summation\n",
    "\n",
    "print(\"Test #1: {}\".format(blackjack(5,6,7)))\n",
    "print(\"Test #2: {}\".format(blackjack(9,9,9)))\n",
    "print(\"Test #3: {}\".format(blackjack(9,9,11)))"
   ]
  },
  {
   "cell_type": "markdown",
   "metadata": {},
   "source": [
    "# Write a function that accepts a sentence and calculate the number of letters and digits.\n",
    "Suppose the following input is supplied to the program:  \n",
    "hello world! 123  \n",
    "Then, the output should be:  \n",
    "LETTERS 10  \n",
    "DIGITS 3  "
   ]
  },
  {
   "cell_type": "code",
   "execution_count": 23,
   "metadata": {},
   "outputs": [
    {
     "name": "stdout",
     "output_type": "stream",
     "text": [
      "isaac123456\n",
      "Letters:  5\n",
      "Digits:  6\n"
     ]
    }
   ],
   "source": [
    "def cal():\n",
    "    s = input()\n",
    "    dl = {'digits':0,'letters':0}\n",
    "    for c in s:\n",
    "        if c.isdigit():\n",
    "            dl[\"digits\"]+=1\n",
    "        elif c.isalpha():\n",
    "            dl[\"letters\"]+=1\n",
    "        else:\n",
    "            pass\n",
    "    print(\"Letters: \",dl['letters'])\n",
    "    print(\"Digits: \",dl['digits'])\n",
    "    return \n",
    "\n",
    "cal()"
   ]
  },
  {
   "cell_type": "markdown",
   "metadata": {},
   "source": [
    "# Write a function to print the pattern like the following"
   ]
  },
  {
   "cell_type": "code",
   "execution_count": 27,
   "metadata": {},
   "outputs": [
    {
     "name": "stdout",
     "output_type": "stream",
     "text": [
      "1 \n",
      "1 2 \n",
      "1 2 3 \n",
      "1 2 3 4 \n",
      "1 2 3 4 5 \n"
     ]
    }
   ],
   "source": [
    "def print_result(n):\n",
    "    for row in range(1, n):\n",
    "        for column in range(1, row + 1):\n",
    "            print(column, end=' ')\n",
    "        print(\"\")\n",
    "\n",
    "print_result(6)"
   ]
  },
  {
   "cell_type": "code",
   "execution_count": null,
   "metadata": {},
   "outputs": [],
   "source": []
  }
 ],
 "metadata": {
  "kernelspec": {
   "display_name": "Python 3",
   "language": "python",
   "name": "python3"
  },
  "language_info": {
   "codemirror_mode": {
    "name": "ipython",
    "version": 3
   },
   "file_extension": ".py",
   "mimetype": "text/x-python",
   "name": "python",
   "nbconvert_exporter": "python",
   "pygments_lexer": "ipython3",
   "version": "3.7.7"
  }
 },
 "nbformat": 4,
 "nbformat_minor": 4
}
