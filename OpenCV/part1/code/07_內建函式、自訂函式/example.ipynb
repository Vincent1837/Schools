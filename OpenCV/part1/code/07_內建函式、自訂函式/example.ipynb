{
 "cells": [
  {
   "cell_type": "markdown",
   "metadata": {},
   "source": [
    "# Build-in function"
   ]
  },
  {
   "cell_type": "code",
   "execution_count": 5,
   "metadata": {},
   "outputs": [
    {
     "name": "stdout",
     "output_type": "stream",
     "text": [
      "5\n",
      "True\n",
      "65\n",
      "A\n",
      "15\n"
     ]
    }
   ],
   "source": [
    "a = -5\n",
    "b = 'A'\n",
    "c =  65\n",
    "d = '(a+10)*3'\n",
    "print(abs(a))\n",
    "print(bool(a))\n",
    "print(ord(b))\n",
    "print(chr(c))\n",
    "print(eval(d))\n"
   ]
  },
  {
   "cell_type": "markdown",
   "metadata": {},
   "source": [
    "# User-Defined Function"
   ]
  },
  {
   "cell_type": "code",
   "execution_count": 6,
   "metadata": {},
   "outputs": [
    {
     "name": "stdout",
     "output_type": "stream",
     "text": [
      "hello\n",
      "hello\n",
      "hello\n"
     ]
    }
   ],
   "source": [
    "def printHello():\n",
    "    print('hello')\n",
    "    \n",
    "printHello()\n",
    "printHello()\n",
    "printHello()"
   ]
  },
  {
   "cell_type": "code",
   "execution_count": 9,
   "metadata": {},
   "outputs": [
    {
     "name": "stdout",
     "output_type": "stream",
     "text": [
      "hello isaac\n",
      "hello Dana\n",
      "hello Joe\n"
     ]
    }
   ],
   "source": [
    "def printHello(text):\n",
    "    print('hello '+ text)\n",
    "    \n",
    "printHello('isaac')\n",
    "printHello('Dana')\n",
    "printHello('Joe')"
   ]
  },
  {
   "cell_type": "code",
   "execution_count": 1,
   "metadata": {},
   "outputs": [
    {
     "name": "stdout",
     "output_type": "stream",
     "text": [
      "8\n",
      "-2\n"
     ]
    }
   ],
   "source": [
    "def sum_number(a, b):\n",
    "    num_sum = a + b\n",
    "    return num_sum\n",
    "    \n",
    "    \n",
    "result = sum_number(3,5)\n",
    "print(result)\n",
    "print(sum_number(3,-5))\n"
   ]
  },
  {
   "cell_type": "code",
   "execution_count": 12,
   "metadata": {},
   "outputs": [
    {
     "name": "stdout",
     "output_type": "stream",
     "text": [
      "15\n",
      "5\n"
     ]
    }
   ],
   "source": [
    "def sum_number(a, b=10):\n",
    "    num_sum = a + b\n",
    "    return num_sum\n",
    "    \n",
    "print(sum_number(5))\n",
    "print(sum_number(-5))"
   ]
  },
  {
   "cell_type": "code",
   "execution_count": 13,
   "metadata": {},
   "outputs": [
    {
     "name": "stdout",
     "output_type": "stream",
     "text": [
      "5\n",
      "5\n"
     ]
    }
   ],
   "source": [
    "def sum_number(a=-5, b=10):\n",
    "    num_sum = a + b\n",
    "    return num_sum\n",
    "    \n",
    "print(sum_number())\n",
    "print(sum_number())"
   ]
  },
  {
   "cell_type": "code",
   "execution_count": 16,
   "metadata": {},
   "outputs": [
    {
     "name": "stdout",
     "output_type": "stream",
     "text": [
      "isaac's score is: 80\n",
      "isaac's score is: 80\n"
     ]
    }
   ],
   "source": [
    "def get_score(student_name, score):\n",
    "    text = student_name + '\\'s score is: ' + str(score)\n",
    "    print(text)\n",
    "    \n",
    "get_score('isaac', 80)\n",
    "get_score(score = 80, student_name = 'isaac')"
   ]
  },
  {
   "cell_type": "code",
   "execution_count": 3,
   "metadata": {},
   "outputs": [
    {
     "name": "stdout",
     "output_type": "stream",
     "text": [
      "The youngest child is Linus\n"
     ]
    }
   ],
   "source": [
    "def my_function(*kids):\n",
    "    print(\"The youngest child is \" + kids[2])\n",
    "\n",
    "my_function(\"Emil\", \"Tobias\", \"Linus\",\"isaac\", \"amy\")"
   ]
  },
  {
   "cell_type": "code",
   "execution_count": 4,
   "metadata": {},
   "outputs": [
    {
     "name": "stdout",
     "output_type": "stream",
     "text": [
      "{'fname': 'Tobias', 'lname': 'Refsnes'}\n",
      "His last name is Refsnes\n"
     ]
    }
   ],
   "source": [
    "def my_function(**kid):\n",
    "    print(kid)\n",
    "    print(\"His last name is \" + kid[\"lname\"])\n",
    "\n",
    "my_function(fname = \"Tobias\", lname = \"Refsnes\")"
   ]
  },
  {
   "cell_type": "code",
   "execution_count": 21,
   "metadata": {},
   "outputs": [
    {
     "name": "stdout",
     "output_type": "stream",
     "text": [
      "(40, 10.0)\n"
     ]
    }
   ],
   "source": [
    "def list_statistic(u_list):\n",
    "    num_sum = sum(u_list)\n",
    "    num_avg = num_sum / len(u_list) \n",
    "    return num_sum, num_avg\n",
    "\n",
    "my_list = [100, 20, -30, -50] \n",
    "print(list_statistic(my_list))"
   ]
  },
  {
   "cell_type": "code",
   "execution_count": 2,
   "metadata": {},
   "outputs": [
    {
     "name": "stdout",
     "output_type": "stream",
     "text": [
      "main function\n",
      "hello isaac\n"
     ]
    }
   ],
   "source": [
    "def main():\n",
    "    print('main function')\n",
    "    printHello('isaac')\n",
    "    \n",
    "def printHello(text):\n",
    "    print('hello '+text)\n",
    "\n",
    "if __name__ == \"__main__\":\n",
    "    main()"
   ]
  },
  {
   "cell_type": "markdown",
   "metadata": {},
   "source": [
    "# Local variables and Global variables"
   ]
  },
  {
   "cell_type": "code",
   "execution_count": 25,
   "metadata": {},
   "outputs": [
    {
     "name": "stdout",
     "output_type": "stream",
     "text": [
      "8\n"
     ]
    },
    {
     "ename": "NameError",
     "evalue": "name 'x' is not defined",
     "output_type": "error",
     "traceback": [
      "\u001b[1;31m---------------------------------------------------------------------------\u001b[0m",
      "\u001b[1;31mNameError\u001b[0m                                 Traceback (most recent call last)",
      "\u001b[1;32m<ipython-input-25-76dfeac4eb5c>\u001b[0m in \u001b[0;36m<module>\u001b[1;34m\u001b[0m\n\u001b[0;32m      4\u001b[0m \u001b[1;33m\u001b[0m\u001b[0m\n\u001b[0;32m      5\u001b[0m \u001b[0mprint\u001b[0m\u001b[1;33m(\u001b[0m\u001b[0msum_number\u001b[0m\u001b[1;33m(\u001b[0m\u001b[1;36m3\u001b[0m\u001b[1;33m,\u001b[0m\u001b[1;36m5\u001b[0m\u001b[1;33m)\u001b[0m\u001b[1;33m)\u001b[0m\u001b[1;33m\u001b[0m\u001b[1;33m\u001b[0m\u001b[0m\n\u001b[1;32m----> 6\u001b[1;33m \u001b[0mprint\u001b[0m\u001b[1;33m(\u001b[0m\u001b[0mx\u001b[0m\u001b[1;33m)\u001b[0m\u001b[1;33m\u001b[0m\u001b[1;33m\u001b[0m\u001b[0m\n\u001b[0m",
      "\u001b[1;31mNameError\u001b[0m: name 'x' is not defined"
     ]
    }
   ],
   "source": [
    "def sum_number(x, y):\n",
    "    num_sum = x + y\n",
    "    return num_sum\n",
    "    \n",
    "print(sum_number(3,5))\n",
    "print(x)"
   ]
  },
  {
   "cell_type": "code",
   "execution_count": 26,
   "metadata": {},
   "outputs": [
    {
     "name": "stdout",
     "output_type": "stream",
     "text": [
      "8\n",
      "3\n"
     ]
    }
   ],
   "source": [
    "x = 3\n",
    "def sum_number(y):\n",
    "    global x\n",
    "    num_sum = x + y\n",
    "    return num_sum\n",
    "    \n",
    "print(sum_number(5))\n",
    "print(x)"
   ]
  },
  {
   "cell_type": "code",
   "execution_count": null,
   "metadata": {},
   "outputs": [],
   "source": []
  }
 ],
 "metadata": {
  "kernelspec": {
   "display_name": "Python 3",
   "language": "python",
   "name": "python3"
  },
  "language_info": {
   "codemirror_mode": {
    "name": "ipython",
    "version": 3
   },
   "file_extension": ".py",
   "mimetype": "text/x-python",
   "name": "python",
   "nbconvert_exporter": "python",
   "pygments_lexer": "ipython3",
   "version": "3.7.7"
  }
 },
 "nbformat": 4,
 "nbformat_minor": 4
}
