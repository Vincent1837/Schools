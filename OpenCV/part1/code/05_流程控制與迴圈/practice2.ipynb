{
 "cells": [
  {
   "cell_type": "markdown",
   "metadata": {},
   "source": [
    "# input a character,  detect if this character is uppercase/lowercase/number or special character. \n",
    "## if character is uppercase, print \"Uppercase character.\"\n",
    "## if character is lowercase, print \"Lowercase character.\"\n",
    "## if character is digit, print \"digit.\"\n",
    "## if character is special character, print \"Special characters.\"\n",
    "\n",
    "\n",
    "## hint: use ord()"
   ]
  },
  {
   "cell_type": "code",
   "execution_count": 1,
   "metadata": {},
   "outputs": [
    {
     "data": {
      "text/plain": [
       "65"
      ]
     },
     "execution_count": 1,
     "metadata": {},
     "output_type": "execute_result"
    }
   ],
   "source": [
    "ord('A')"
   ]
  },
  {
   "cell_type": "code",
   "execution_count": 5,
   "metadata": {},
   "outputs": [
    {
     "name": "stdout",
     "output_type": "stream",
     "text": [
      "please enter a char: @\n",
      "Special characters.\n"
     ]
    }
   ],
   "source": [
    "ch = input('please enter a char: ')\n",
    "\n",
    "## write your code here"
   ]
  },
  {
   "cell_type": "markdown",
   "metadata": {},
   "source": [
    "# input a year (ex: 2020) and then check it is leap year or not."
   ]
  },
  {
   "cell_type": "code",
   "execution_count": 6,
   "metadata": {},
   "outputs": [
    {
     "name": "stdout",
     "output_type": "stream",
     "text": [
      "please enter year in YYYY: 2021\n",
      "2021 is not leap year\n"
     ]
    }
   ],
   "source": [
    "# Nested if statement\n",
    "year = input('please enter year in YYYY: ')\n",
    "r4 = int(year)%4\n",
    "r100 = int(year)%100\n",
    "r400 = int(year)%400\n",
    "\n",
    "## write your code here\n"
   ]
  },
  {
   "cell_type": "code",
   "execution_count": null,
   "metadata": {},
   "outputs": [],
   "source": []
  }
 ],
 "metadata": {
  "kernelspec": {
   "display_name": "Python 3",
   "language": "python",
   "name": "python3"
  },
  "language_info": {
   "codemirror_mode": {
    "name": "ipython",
    "version": 3
   },
   "file_extension": ".py",
   "mimetype": "text/x-python",
   "name": "python",
   "nbconvert_exporter": "python",
   "pygments_lexer": "ipython3",
   "version": "3.7.7"
  }
 },
 "nbformat": 4,
 "nbformat_minor": 4
}
