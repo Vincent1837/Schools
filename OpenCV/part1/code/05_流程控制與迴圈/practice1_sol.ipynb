{
 "cells": [
  {
   "cell_type": "markdown",
   "metadata": {},
   "source": [
    "# Swap number in variable a and variable b"
   ]
  },
  {
   "cell_type": "code",
   "execution_count": 1,
   "metadata": {},
   "outputs": [
    {
     "name": "stdout",
     "output_type": "stream",
     "text": [
      "before swap: a:5, b:3\n",
      "before swap: a:3, b:5\n"
     ]
    }
   ],
   "source": [
    "a = 5\n",
    "b = 3\n",
    "\n",
    "print('before swap: a:{}, b:{}'.format(a,b))\n",
    "tmp = a\n",
    "a = b\n",
    "b = tmp\n",
    "\n",
    "print('before swap: a:{}, b:{}'.format(a,b))"
   ]
  },
  {
   "cell_type": "markdown",
   "metadata": {},
   "source": [
    "# input a character, print True if it is a vowel, False otherwise."
   ]
  },
  {
   "cell_type": "code",
   "execution_count": 1,
   "metadata": {},
   "outputs": [
    {
     "name": "stdout",
     "output_type": "stream",
     "text": [
      "a\n",
      "True\n"
     ]
    }
   ],
   "source": [
    "char = input()\n",
    "vowels = ['a', 'e', 'i', 'o', 'u']\n",
    "if char not in vowels:\n",
    "    print(False)\n",
    "else:\n",
    "    print(True)"
   ]
  },
  {
   "cell_type": "markdown",
   "metadata": {},
   "source": [
    "# input a integer limited from 0 to 100  \n",
    "## print A if this number is 90~100\n",
    "## print B if this number is 60~ 90\n",
    "## print C if this number is 0~60"
   ]
  },
  {
   "cell_type": "code",
   "execution_count": 2,
   "metadata": {},
   "outputs": [
    {
     "name": "stdout",
     "output_type": "stream",
     "text": [
      "your integer:55\n",
      "55 is rank: C\n"
     ]
    }
   ],
   "source": [
    "score = int(input('your integer:'))\n",
    "rank = None\n",
    "\n",
    "if 0 <= score and score < 60:\n",
    "    rank = 'C'\n",
    "elif 60 <= score and score < 90:\n",
    "    rank = 'B'\n",
    "elif 90 <= score and score <= 100:\n",
    "    rank = 'A'\n",
    "\n",
    "if rank != None:\n",
    "    print('{} is rank: {}'.format(score, rank))\n",
    "else:\n",
    "    print('input digit should be between 0~100')"
   ]
  },
  {
   "cell_type": "code",
   "execution_count": null,
   "metadata": {},
   "outputs": [],
   "source": []
  }
 ],
 "metadata": {
  "kernelspec": {
   "display_name": "Python 3",
   "language": "python",
   "name": "python3"
  },
  "language_info": {
   "codemirror_mode": {
    "name": "ipython",
    "version": 3
   },
   "file_extension": ".py",
   "mimetype": "text/x-python",
   "name": "python",
   "nbconvert_exporter": "python",
   "pygments_lexer": "ipython3",
   "version": "3.7.7"
  }
 },
 "nbformat": 4,
 "nbformat_minor": 4
}
