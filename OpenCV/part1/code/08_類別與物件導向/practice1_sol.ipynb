{
 "cells": [
  {
   "cell_type": "markdown",
   "metadata": {},
   "source": [
    "# Write a Python class named Circle constructed by a radius and two methods which will compute the area and the perimeter of a circle"
   ]
  },
  {
   "cell_type": "code",
   "execution_count": 1,
   "metadata": {},
   "outputs": [
    {
     "name": "stdout",
     "output_type": "stream",
     "text": [
      "200.96\n",
      "50.24\n"
     ]
    }
   ],
   "source": [
    "class Circle():\n",
    "    def __init__(self, r):\n",
    "        self.radius = r\n",
    "\n",
    "    def area(self):\n",
    "        return self.radius**2*3.14\n",
    "    \n",
    "    def perimeter(self):\n",
    "        return 2*self.radius*3.14\n",
    "\n",
    "NewCircle = Circle(8)\n",
    "print(NewCircle.area())\n",
    "print(NewCircle.perimeter())"
   ]
  },
  {
   "cell_type": "markdown",
   "metadata": {},
   "source": [
    "# Write a Python class which has two methods get_String and print_String. get_String accept a string from the user and print_String print the string in upper case."
   ]
  },
  {
   "cell_type": "code",
   "execution_count": 2,
   "metadata": {},
   "outputs": [
    {
     "name": "stdout",
     "output_type": "stream",
     "text": [
      "isaac123\n",
      "ISAAC123\n"
     ]
    }
   ],
   "source": [
    "class IOString():\n",
    "    def __init__(self):\n",
    "        self.str1 = \"\"\n",
    "\n",
    "    def get_String(self):\n",
    "        self.str1 = input()\n",
    "\n",
    "    def print_String(self):\n",
    "        print(self.str1.upper())\n",
    "\n",
    "str1 = IOString()\n",
    "str1.get_String()\n",
    "str1.print_String()"
   ]
  },
  {
   "cell_type": "markdown",
   "metadata": {},
   "source": [
    "# Define a class called Songs, it will show the lyrics of a song. Its __init__() method should have two arguments:self and lyrics(a list). Inside your class create a method called \"sing_me_a_song\" that prints each element of lyricson his own line. Define a varible  \n",
    "`happy_bday = Song([\"May god bless you, \",\n",
    "                   \"Have a sunshine on you,\",\n",
    "                   \"Happy Birthday to you !\"])`"
   ]
  },
  {
   "cell_type": "code",
   "execution_count": 1,
   "metadata": {},
   "outputs": [
    {
     "name": "stdout",
     "output_type": "stream",
     "text": [
      "May god bless you, \n",
      "Have a sunshine on you,\n",
      "Happy Birthday to you !\n"
     ]
    }
   ],
   "source": [
    "class Song(object):\n",
    "    def __init__(self, lyrics):\n",
    "        self.lyrics=lyrics\n",
    "    def sing_me_a_song(self):\n",
    "        for line in self.lyrics:\n",
    "            print(line)\n",
    "            \n",
    "happy_bday = Song([\"May god bless you, \",\n",
    "                   \"Have a sunshine on you,\",\n",
    "                   \"Happy Birthday to you !\"])\n",
    "happy_bday.sing_me_a_song()"
   ]
  },
  {
   "cell_type": "code",
   "execution_count": null,
   "metadata": {},
   "outputs": [],
   "source": []
  }
 ],
 "metadata": {
  "kernelspec": {
   "display_name": "Python 3",
   "language": "python",
   "name": "python3"
  },
  "language_info": {
   "codemirror_mode": {
    "name": "ipython",
    "version": 3
   },
   "file_extension": ".py",
   "mimetype": "text/x-python",
   "name": "python",
   "nbconvert_exporter": "python",
   "pygments_lexer": "ipython3",
   "version": "3.7.7"
  }
 },
 "nbformat": 4,
 "nbformat_minor": 4
}
