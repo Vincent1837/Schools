{
 "cells": [
  {
   "cell_type": "markdown",
   "metadata": {},
   "source": [
    "# We have a class defined for vehicles. Create two new vehicles called car1 and car2. Set car1 to be a red(color) convertible(kind) worth 60,000.00(value) with a name of Fer(name), and car2 to be a blue(color) van(kind) named Jump(name) worth 10,000.00(value)."
   ]
  },
  {
   "cell_type": "code",
   "execution_count": 6,
   "metadata": {},
   "outputs": [
    {
     "name": "stdout",
     "output_type": "stream",
     "text": [
      "Fer is a red convertible worth 60000.0\n",
      "Jump is a blue van worth 10000.0\n"
     ]
    }
   ],
   "source": [
    "# define the Vehicle class\n",
    "class Vehicle:\n",
    "    name = \"\"\n",
    "    kind = \"car\"\n",
    "    color = \"\"\n",
    "    value = 100.00\n",
    "    def description(self):\n",
    "        desc_str = \"{} is a {} {} worth {}\".format(self.name, self.color, self.kind, self.value)\n",
    "        return desc_str\n",
    "\n",
    "\n",
    "car1 = Vehicle()\n",
    "car1.name = \"Fer\"\n",
    "car1.color = \"red\"\n",
    "car1.kind = \"convertible\"\n",
    "car1.value = 60000.00\n",
    "\n",
    "car2 = Vehicle()\n",
    "car2.name = \"Jump\"\n",
    "car2.color = \"blue\"\n",
    "car2.kind = \"van\"\n",
    "car2.value = 10000.00\n",
    "\n",
    "\n",
    "print(car1.description())\n",
    "print(car2.description())"
   ]
  },
  {
   "cell_type": "markdown",
   "metadata": {},
   "source": [
    "# Create a Temperature class. Make two methods :\n",
    "1. convertFahrenheit - It will take celsius and will print it into Fahrenheit.\n",
    "2. convertCelsius - It will take Fahrenheit and will convert it into Celsius."
   ]
  },
  {
   "cell_type": "code",
   "execution_count": 7,
   "metadata": {},
   "outputs": [
    {
     "name": "stdout",
     "output_type": "stream",
     "text": [
      "32.0\n",
      "-17.77777777777778\n"
     ]
    }
   ],
   "source": [
    "class Temperature():\n",
    "    def convertFahrenhiet(self,celsius):\n",
    "        return (celsius*(9/5))+32\n",
    "    def convertCelsius(self,farenhiet):\n",
    "        return (farenhiet-32)*(5/9)\n",
    "t = Temperature()\n",
    "print(t.convertFahrenhiet(0))\n",
    "print(t.convertCelsius(0))"
   ]
  },
  {
   "cell_type": "markdown",
   "metadata": {},
   "source": [
    "# Create a Time class and initialize it with hours and minutes.\n",
    "1. Make a method addTime which should take two time object and add them. E.g.- (2 hour and 50 min)+(1 hr and 20 min) is (4 hr and 10 min)\n",
    "2. Make a method displayTime which should print the time.\n",
    "3. Make a method DisplayMinute which should display the total minutes in the Time. E.g.- (1 hr 2 min) should display 62 minute."
   ]
  },
  {
   "cell_type": "code",
   "execution_count": 16,
   "metadata": {},
   "outputs": [
    {
     "name": "stdout",
     "output_type": "stream",
     "text": [
      "Time is 4 hours and 19 minutes.\n",
      "\n",
      "259\n"
     ]
    }
   ],
   "source": [
    "class Time():\n",
    "    def __init__(self, hours, mins):\n",
    "        self.hours = hours\n",
    "        self.mins = mins\n",
    "    def addTime(t1, t2):\n",
    "        t3 = Time(0,0)\n",
    "        if t1.mins+t2.mins > 60:\n",
    "            t3.hours = t3.hours + t1.hours + t2.hours + (t1.mins+t2.mins)//60\n",
    "            t3.mins =  t3.mins + t1.mins+ t2.mins - 60\n",
    "        else:\n",
    "            t3.hours = t3.hours + t1.hours + t2.hours\n",
    "            t3.mins =  t3.mins + t1.mins + t2.mins          \n",
    "        return t3\n",
    "    \n",
    "    def displayTime(self):\n",
    "        print(\"Time is \" + str(self.hours) + \" hours and \" + str(self.mins) + \" minutes.\\n\")\n",
    "        \n",
    "    def displayMinute(self):\n",
    "        print((self.hours*60)+self.mins)\n",
    "\n",
    "a = Time(2,59)\n",
    "b = Time(1,20)\n",
    "c = Time.addTime(a,b)\n",
    "c.displayTime()\n",
    "c.displayMinute()"
   ]
  },
  {
   "cell_type": "code",
   "execution_count": null,
   "metadata": {},
   "outputs": [],
   "source": []
  }
 ],
 "metadata": {
  "kernelspec": {
   "display_name": "Python 3",
   "language": "python",
   "name": "python3"
  },
  "language_info": {
   "codemirror_mode": {
    "name": "ipython",
    "version": 3
   },
   "file_extension": ".py",
   "mimetype": "text/x-python",
   "name": "python",
   "nbconvert_exporter": "python",
   "pygments_lexer": "ipython3",
   "version": "3.7.7"
  }
 },
 "nbformat": 4,
 "nbformat_minor": 4
}
