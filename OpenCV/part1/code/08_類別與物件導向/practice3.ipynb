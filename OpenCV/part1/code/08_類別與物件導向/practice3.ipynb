{
 "cells": [
  {
   "cell_type": "markdown",
   "metadata": {},
   "source": [
    "# Please define a Shape class  as following and define Circle Class and Rectangle Class to inherit from Shape. In Circle and Rectange Class, please add function cal_area to calculate area and add  function cal_perimeter to calculate perimeter."
   ]
  },
  {
   "cell_type": "code",
   "execution_count": 14,
   "metadata": {},
   "outputs": [
    {
     "name": "stdout",
     "output_type": "stream",
     "text": [
      "314.0\n",
      "62.800000000000004\n",
      "black\n",
      "white\n",
      "============\n",
      "10\n",
      "14\n",
      "black\n",
      "yellow\n"
     ]
    }
   ],
   "source": [
    "class Shape():\n",
    "    def __init__(self, color='black', filled=False):\n",
    "        self.__color = color\n",
    "        self.__filled = filled\n",
    "    def cal_area():\n",
    "        pass\n",
    "    def cal_perimeter():\n",
    "        pass\n",
    "    \n",
    "    def get_color(self):\n",
    "        ## write your code here\n",
    " \n",
    "    def set_color(self, color):\n",
    "        ## write your code here\n",
    " \n",
    "    def get_filled(self):\n",
    "        ## write your code here\n",
    " \n",
    "    def set_filled(self, filled):\n",
    "        ## write your code here\n",
    "    \n",
    "    \n",
    "class Circle(Shape):\n",
    "        ## write your code here\n",
    "\n",
    "class Rectangle(Shape):\n",
    "        ## write your code here\n",
    "\n",
    "c1 = Circle(10)\n",
    "print(c1.cal_area())\n",
    "print(c1.cal_perimeter())\n",
    "print(c1.get_color())\n",
    "c1.set_color('white')\n",
    "print(c1.get_color())\n",
    "\n",
    "\n",
    "print('============')\n",
    "\n",
    "r1 = Rectangle(2, 5)\n",
    "print(r1.cal_area())\n",
    "print(r1.cal_perimeter())\n",
    "print(r1.get_color())\n",
    "r1.set_color('yellow')\n",
    "print(r1.get_color())\n",
    "\n"
   ]
  },
  {
   "cell_type": "code",
   "execution_count": null,
   "metadata": {},
   "outputs": [],
   "source": []
  }
 ],
 "metadata": {
  "kernelspec": {
   "display_name": "Python 3",
   "language": "python",
   "name": "python3"
  },
  "language_info": {
   "codemirror_mode": {
    "name": "ipython",
    "version": 3
   },
   "file_extension": ".py",
   "mimetype": "text/x-python",
   "name": "python",
   "nbconvert_exporter": "python",
   "pygments_lexer": "ipython3",
   "version": "3.6.10"
  }
 },
 "nbformat": 4,
 "nbformat_minor": 4
}
