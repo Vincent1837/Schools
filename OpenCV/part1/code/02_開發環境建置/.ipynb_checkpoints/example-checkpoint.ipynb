{
 "cells": [
  {
   "cell_type": "code",
   "execution_count": 1,
   "metadata": {},
   "outputs": [
    {
     "name": "stdout",
     "output_type": "stream",
     "text": [
      "hello python!\n"
     ]
    }
   ],
   "source": [
    "# this is comment line\n",
    "\n",
    "# this is second comment line\n",
    "\n",
    "'''\n",
    "this is multiple comment line\n",
    "this is second line \n",
    "this is third line\n",
    "'''\n",
    "\n",
    "print('hello python!')"
   ]
  },
  {
   "cell_type": "markdown",
   "metadata": {},
   "source": [
    "this is markdown part  \n",
    "test123"
   ]
  },
  {
   "cell_type": "markdown",
   "metadata": {},
   "source": [
    "# this is heading level1 \n",
    "## this is heading level2\n",
    "### this is heading level3\n"
   ]
  },
  {
   "cell_type": "markdown",
   "metadata": {},
   "source": [
    "- First item\n",
    "- Second item\n",
    "- Third item\n",
    "- Fourth item"
   ]
  },
  {
   "cell_type": "markdown",
   "metadata": {},
   "source": [
    "- First item\n",
    "- Second item\n",
    "- Third item\n",
    "    - Indented item\n",
    "    - Indented item\n",
    "- Fourth item"
   ]
  },
  {
   "cell_type": "markdown",
   "metadata": {},
   "source": [
    "*   This is the first list item.\n",
    "*   Here's the second list item.\n",
    "\n",
    "    > A blockquote would look great below the second list item.\n",
    "\n",
    "*   And here's the third list item."
   ]
  },
  {
   "cell_type": "markdown",
   "metadata": {},
   "source": [
    "![my image](./test.jpg)"
   ]
  },
  {
   "cell_type": "code",
   "execution_count": null,
   "metadata": {},
   "outputs": [],
   "source": []
  }
 ],
 "metadata": {
  "kernelspec": {
   "display_name": "Python 3",
   "language": "python",
   "name": "python3"
  },
  "language_info": {
   "codemirror_mode": {
    "name": "ipython",
    "version": 3
   },
   "file_extension": ".py",
   "mimetype": "text/x-python",
   "name": "python",
   "nbconvert_exporter": "python",
   "pygments_lexer": "ipython3",
   "version": "3.7.7"
  }
 },
 "nbformat": 4,
 "nbformat_minor": 4
}
