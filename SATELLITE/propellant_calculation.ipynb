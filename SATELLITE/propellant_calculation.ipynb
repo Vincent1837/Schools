{
 "cells": [
  {
   "cell_type": "markdown",
   "id": "a9e12f27",
   "metadata": {},
   "source": [
    "# Propellant Calculation for Satellite Operation"
   ]
  },
  {
   "cell_type": "markdown",
   "id": "eaf0ac82",
   "metadata": {},
   "source": [
    "Calculate the propellant required for an operation for a satellite with the drymass of 300 kg from the altitude of 435 km to 500 km. The specific impulseof the thruster is 200 seconds."
   ]
  },
  {
   "cell_type": "code",
   "execution_count": 5,
   "id": "8cec7ac2",
   "metadata": {},
   "outputs": [
    {
     "name": "stdout",
     "output_type": "stream",
     "text": [
      "propellant mass = 5.599652845460014 kg\n"
     ]
    }
   ],
   "source": [
    "\n",
    "import math\n",
    "\n",
    "# Constants\n",
    "mu = 3.986e14  # Earth's gravitational parameter (m^3/s^2)\n",
    "RE = 6371e3  # Earth's radius (m)\n",
    "g0 = 9.81  # Standard gravitational acceleration (m/s^2)\n",
    "Isp = 200  # Specific impulse (s)\n",
    "dry_mass = 300  # Dry mass of the satellite (kg)\n",
    "\n",
    "# Altitudes\n",
    "h1 = 435e3  # Initial altitude (m)\n",
    "h2 = 500e3  # Final altitude (m)\n",
    "\n",
    "# Orbital velocities\n",
    "r1 = RE + h1  # Initial orbital radius (m) = 6806 (km)\n",
    "r2 = RE + h2  # Final orbital radius (m) = 6871 (km)\n",
    "v1 = math.sqrt(mu / r1)  # Initial orbital velocity (m/s)\n",
    "v2 = math.sqrt(mu / r2)  # Final orbital velocity (m/s)\n",
    "delta_v = abs(v2 - v1)  # Change in velocity (m/s)\n",
    "\n",
    "# Using Tsiolkovsky rocket equation\n",
    "mass_ratio = math.exp(delta_v / (Isp * g0))\n",
    "initial_mass = dry_mass * mass_ratio  # Total initial mass (kg)\n",
    "propellant_mass = initial_mass - dry_mass  # Propellant mass (kg)\n",
    "\n",
    "print(f'propellant mass = {propellant_mass} kg')\n"
   ]
  },
  {
   "cell_type": "markdown",
   "id": "3d69e91f",
   "metadata": {},
   "source": [
    "## Results"
   ]
  },
  {
   "cell_type": "markdown",
   "id": "5cc46ec2",
   "metadata": {},
   "source": [
    "The change in velocity (Δv) is approximately **36.28 m/s**, and the required propellant mass is approximately **5.60 kg**."
   ]
  }
 ],
 "metadata": {
  "kernelspec": {
   "display_name": "Python 3",
   "language": "python",
   "name": "python3"
  },
  "language_info": {
   "codemirror_mode": {
    "name": "ipython",
    "version": 3
   },
   "file_extension": ".py",
   "mimetype": "text/x-python",
   "name": "python",
   "nbconvert_exporter": "python",
   "pygments_lexer": "ipython3",
   "version": "3.10.5"
  }
 },
 "nbformat": 4,
 "nbformat_minor": 5
}
