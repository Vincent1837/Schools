{
 "cells": [
  {
   "cell_type": "markdown",
   "metadata": {},
   "source": [
    "# 衛星熱控作業\n",
    "![](img3.png)\n",
    "![](img2.png)"
   ]
  },
  {
   "cell_type": "code",
   "execution_count": 3,
   "metadata": {},
   "outputs": [
    {
     "data": {
      "text/plain": [
       "6.927999999999999"
      ]
     },
     "execution_count": 3,
     "metadata": {},
     "output_type": "execute_result"
    }
   ],
   "source": [
    "import numpy as np\n",
    "\n",
    "# Given values\n",
    "k = 43.3  # Thermal conductivity in W/m°C\n",
    "W = 0.02  # Width in meters\n",
    "L = 0.1   # Length in meters\n",
    "D = 0.01  # Thickness in meters\n",
    "T1 = 100  # Hot end temperature in °C\n",
    "T2 = 20   # Cold end temperature in °C\n",
    "\n",
    "# Cross-sectional area\n",
    "A = D * W\n",
    "\n",
    "# Temperature difference\n",
    "delta_T = T1 - T2\n",
    "\n",
    "# Heat conducted using Fourier's law\n",
    "Q = (k * A * delta_T) / L\n",
    "\n",
    "# Output results\n",
    "Q\n"
   ]
  },
  {
   "cell_type": "markdown",
   "metadata": {},
   "source": [
    "## (b) **How to improve heat transfer capability:**\n",
    "There are several ways to improve the heat transfer capability while maintaining the same temperature difference:\n",
    "1. **Increase thermal conductivity (\\(k\\)):**\n",
    "   - Use a material with higher thermal conductivity.\n",
    "2. **Increase the cross-sectional area (\\(A\\)):**\n",
    "   - Increase either the width (\\(W\\)) or length (\\(L\\)) of the steel plate.\n",
    "3. **Reduce thickness (\\(D\\)):**\n",
    "   - Make the plate thinner.\n",
    "4. **Use a better thermal interface material:**\n",
    "   - Place a high-conductivity material between the steel plate and the heat sources."
   ]
  }
 ],
 "metadata": {
  "kernelspec": {
   "display_name": "Python 3",
   "language": "python",
   "name": "python3"
  },
  "language_info": {
   "codemirror_mode": {
    "name": "ipython",
    "version": 3
   },
   "file_extension": ".py",
   "mimetype": "text/x-python",
   "name": "python",
   "nbconvert_exporter": "python",
   "pygments_lexer": "ipython3",
   "version": "3.10.5"
  }
 },
 "nbformat": 4,
 "nbformat_minor": 2
}
