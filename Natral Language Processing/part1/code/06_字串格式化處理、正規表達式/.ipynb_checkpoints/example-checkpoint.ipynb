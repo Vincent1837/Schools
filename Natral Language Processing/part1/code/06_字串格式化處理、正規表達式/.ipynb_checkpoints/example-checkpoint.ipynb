{
 "cells": [
  {
   "cell_type": "markdown",
   "metadata": {},
   "source": [
    "# String Format"
   ]
  },
  {
   "cell_type": "code",
   "execution_count": 28,
   "metadata": {},
   "outputs": [
    {
     "name": "stdout",
     "output_type": "stream",
     "text": [
      "a = 3, b = 2.1, c = hello\n",
      "a = 3, b = 2.1, c = hello\n",
      "c = hello, b = 2.1, a = 3\n"
     ]
    }
   ],
   "source": [
    "a = 3\n",
    "b = 2.1\n",
    "c = 'hello'\n",
    "print('a = {}, b = {}, c = {}'.format(a, b, c))\n",
    "print('a = {0}, b = {1}, c = {2}'.format(a, b, c))\n",
    "print('c = {2}, b = {1}, a = {0}'.format(a, b, c))\n"
   ]
  },
  {
   "cell_type": "code",
   "execution_count": 29,
   "metadata": {},
   "outputs": [
    {
     "name": "stdout",
     "output_type": "stream",
     "text": [
      "abc, edf\n"
     ]
    }
   ],
   "source": [
    "a = 'abc'\n",
    "b = 'edf'\n",
    "\n",
    "print('{text1}, {text2}'.format(text1=a, text2=b))"
   ]
  },
  {
   "cell_type": "code",
   "execution_count": 30,
   "metadata": {},
   "outputs": [
    {
     "name": "stdout",
     "output_type": "stream",
     "text": [
      "abc, edf\n"
     ]
    }
   ],
   "source": [
    "my_list = ['abc', 'edf']\n",
    "print('{0[0]}, {0[1]}'.format(my_list))"
   ]
  },
  {
   "cell_type": "code",
   "execution_count": 31,
   "metadata": {},
   "outputs": [
    {
     "name": "stdout",
     "output_type": "stream",
     "text": [
      "abc, edf\n"
     ]
    }
   ],
   "source": [
    "my_tuple = ('abc', 'edf')\n",
    "print('{0[0]}, {0[1]}'.format(my_tuple))"
   ]
  },
  {
   "cell_type": "code",
   "execution_count": 40,
   "metadata": {},
   "outputs": [
    {
     "name": "stdout",
     "output_type": "stream",
     "text": [
      "         3\n",
      "  2.112321\n",
      "      2.11\n",
      "hello     \n"
     ]
    }
   ],
   "source": [
    "a = 3\n",
    "b = 2.112321345566\n",
    "c = 'hello'\n",
    "print('{0:10d}'.format(a))\n",
    "print('{0:10f}'.format(b))\n",
    "print('{0:10.2f}'.format(b))\n",
    "print('{0:10s}'.format(c))"
   ]
  },
  {
   "cell_type": "code",
   "execution_count": 41,
   "metadata": {},
   "outputs": [
    {
     "name": "stdout",
     "output_type": "stream",
     "text": [
      "         3\n",
      "  2.112321\n",
      "      2.11\n",
      "     hello\n"
     ]
    }
   ],
   "source": [
    "a = 3\n",
    "b = 2.112321345566\n",
    "c = 'hello'\n",
    "print('{0:>10d}'.format(a))\n",
    "print('{0:>10f}'.format(b))\n",
    "print('{0:>10.2f}'.format(b))\n",
    "print('{0:>10s}'.format(c))"
   ]
  },
  {
   "cell_type": "code",
   "execution_count": 43,
   "metadata": {},
   "outputs": [
    {
     "name": "stdout",
     "output_type": "stream",
     "text": [
      "3         \n",
      "2.112321  \n",
      "2.11      \n",
      "hello     \n"
     ]
    }
   ],
   "source": [
    "a = 3\n",
    "b = 2.112321345566\n",
    "c = 'hello'\n",
    "print('{0:<10d}'.format(a))\n",
    "print('{0:<10f}'.format(b))\n",
    "print('{0:<10.2f}'.format(b))\n",
    "print('{0:<10s}'.format(c))"
   ]
  },
  {
   "cell_type": "code",
   "execution_count": 44,
   "metadata": {},
   "outputs": [
    {
     "name": "stdout",
     "output_type": "stream",
     "text": [
      "    3     \n",
      " 2.112321 \n",
      "   2.11   \n",
      "  hello   \n"
     ]
    }
   ],
   "source": [
    "a = 3\n",
    "b = 2.112321345566\n",
    "c = 'hello'\n",
    "print('{0:^10d}'.format(a))\n",
    "print('{0:^10f}'.format(b))\n",
    "print('{0:^10.2f}'.format(b))\n",
    "print('{0:^10s}'.format(c))"
   ]
  },
  {
   "cell_type": "code",
   "execution_count": 48,
   "metadata": {},
   "outputs": [
    {
     "name": "stdout",
     "output_type": "stream",
     "text": [
      "int: 1273212, bin: 100110110110101111100, oct: 4666574, hex: 136d7c\n",
      "int: 1273212, bin: 0b100110110110101111100, oct: 0o4666574, hex: 0x136d7c\n",
      "1,273,212\n"
     ]
    }
   ],
   "source": [
    "a = 1273212\n",
    "print('int: {0:d}, bin: {0:b}, oct: {0:o}, hex: {0:x}'.format(a))\n",
    "print('int: {0:#d}, bin: {0:#b}, oct: {0:#o}, hex: {0:#x}'.format(a))\n",
    "print('{:,}'.format(a))"
   ]
  },
  {
   "cell_type": "code",
   "execution_count": 49,
   "metadata": {},
   "outputs": [
    {
     "name": "stdout",
     "output_type": "stream",
     "text": [
      "2020-01-01 12:33:43\n"
     ]
    }
   ],
   "source": [
    "import datetime\n",
    "\n",
    "d = datetime.datetime(2020, 1, 1, 12, 33, 43)\n",
    "print('{:%Y-%m-%d %H:%M:%S}'.format(d))"
   ]
  },
  {
   "cell_type": "markdown",
   "metadata": {},
   "source": [
    "# Regular Expression"
   ]
  },
  {
   "cell_type": "code",
   "execution_count": 24,
   "metadata": {},
   "outputs": [
    {
     "name": "stdout",
     "output_type": "stream",
     "text": [
      "YES! We have a match!\n"
     ]
    }
   ],
   "source": [
    "import re\n",
    "\n",
    "#Check if the string starts with \"The\" and ends with \"Spain\":\n",
    "\n",
    "txt = \"The rain in Spain\"\n",
    "x = re.match(\"^The.*Spain$\", txt)\n",
    "\n",
    "if (x):\n",
    "    print(\"YES! We have a match!\")\n",
    "else:\n",
    "    print(\"No match\")\n"
   ]
  },
  {
   "cell_type": "code",
   "execution_count": 26,
   "metadata": {},
   "outputs": [
    {
     "name": "stdout",
     "output_type": "stream",
     "text": [
      "No match\n"
     ]
    }
   ],
   "source": [
    "import re\n",
    "\n",
    "txt = \"ABC123 The rain in Spain\"\n",
    "x = re.match(\"^The.*Spain$\", txt)\n",
    "\n",
    "if (x):\n",
    "    print(\"YES! We have a match!\")\n",
    "else:\n",
    "    print(\"No match\")\n"
   ]
  },
  {
   "cell_type": "code",
   "execution_count": 13,
   "metadata": {},
   "outputs": [
    {
     "name": "stdout",
     "output_type": "stream",
     "text": [
      "YES! We have a match!\n"
     ]
    }
   ],
   "source": [
    "import re\n",
    "\n",
    "#Check if the string starts with \"The\" and ends with \"Spain\":\n",
    "\n",
    "txt = \"The rain in Spain\"\n",
    "x = re.search(\"^The.*Spain$\", txt)\n",
    "\n",
    "if (x):\n",
    "    print(\"YES! We have a match!\")\n",
    "else:\n",
    "    print(\"No match\")\n"
   ]
  },
  {
   "cell_type": "code",
   "execution_count": 16,
   "metadata": {},
   "outputs": [
    {
     "name": "stdout",
     "output_type": "stream",
     "text": [
      "None\n"
     ]
    }
   ],
   "source": [
    "import re\n",
    "\n",
    "txt = \"The rain in Spain\"\n",
    "x = re.search(\"Portugal\", txt)\n",
    "print(x)\n"
   ]
  },
  {
   "cell_type": "code",
   "execution_count": 17,
   "metadata": {},
   "outputs": [
    {
     "name": "stdout",
     "output_type": "stream",
     "text": [
      "The first white-space character is located in position: 3\n"
     ]
    }
   ],
   "source": [
    "import re\n",
    "\n",
    "txt = \"The rain in Spain\"\n",
    "x = re.search(\"\\s\", txt)\n",
    "\n",
    "print(\"The first white-space character is located in position:\", x.start()) \n"
   ]
  },
  {
   "cell_type": "code",
   "execution_count": 23,
   "metadata": {},
   "outputs": [
    {
     "name": "stdout",
     "output_type": "stream",
     "text": [
      "No match!!\n",
      "search --> searchObj.group() : dogs\n"
     ]
    }
   ],
   "source": [
    "import re\n",
    "\n",
    "line = \"Cats are smarter than dogs\";\n",
    "\n",
    "matchObj = re.match( r'dogs', line)\n",
    "if matchObj:\n",
    "    print(\"match --> matchObj.group() : {}\".format(matchObj.group()))\n",
    "else:\n",
    "    print(\"No match!!\")\n",
    "\n",
    "searchObj = re.search( r'dogs', line)\n",
    "if searchObj:\n",
    "    print(\"search --> searchObj.group() : {}\".format(searchObj.group()))\n",
    "else:\n",
    "    print(\"Nothing found!!\")"
   ]
  },
  {
   "cell_type": "code",
   "execution_count": 1,
   "metadata": {},
   "outputs": [
    {
     "name": "stdout",
     "output_type": "stream",
     "text": [
      "['abc', 'abc', 'abc']\n"
     ]
    }
   ],
   "source": [
    "import re\n",
    " \n",
    "pattern='abc'\n",
    "string='123321 abc abc abc'\n",
    "match = re.findall(pattern,string)\n",
    "print(match)"
   ]
  },
  {
   "cell_type": "code",
   "execution_count": 15,
   "metadata": {},
   "outputs": [
    {
     "name": "stdout",
     "output_type": "stream",
     "text": [
      "['ai', 'ai']\n"
     ]
    }
   ],
   "source": [
    "import re\n",
    "\n",
    "#Return a list containing every occurrence of \"ai\":\n",
    "\n",
    "txt = \"The rain in Spain\"\n",
    "match = re.findall(\"ai\", txt)\n",
    "print(match)"
   ]
  },
  {
   "cell_type": "code",
   "execution_count": 2,
   "metadata": {},
   "outputs": [
    {
     "name": "stdout",
     "output_type": "stream",
     "text": [
      "['aabc', 'ac', 'aabbc']\n"
     ]
    }
   ],
   "source": [
    "pattern = \"a+b*c\"\n",
    "string = 'aabc, ac, aabbccc abb, dd'\n",
    "match = re.findall(pattern, string)\n",
    "print(match)"
   ]
  },
  {
   "cell_type": "code",
   "execution_count": 3,
   "metadata": {},
   "outputs": [
    {
     "name": "stdout",
     "output_type": "stream",
     "text": [
      "['abbbbc', 'bc', 'bc']\n"
     ]
    }
   ],
   "source": [
    "pattern = \"a*b+c\"\n",
    "string = 'abbbbc, bc, bcccc,c, acc'\n",
    "match = re.findall(pattern, string)\n",
    "print(match)"
   ]
  },
  {
   "cell_type": "code",
   "execution_count": 4,
   "metadata": {},
   "outputs": [
    {
     "name": "stdout",
     "output_type": "stream",
     "text": [
      "['77', '110', '5']\n"
     ]
    }
   ],
   "source": [
    "pattern = \"[0-9]+\"\n",
    "string = 'there are 77 apples, 110 bananas, and 5 pineapples'\n",
    "match = re.findall(pattern, string)\n",
    "print(match)"
   ]
  },
  {
   "cell_type": "code",
   "execution_count": 5,
   "metadata": {},
   "outputs": [
    {
     "name": "stdout",
     "output_type": "stream",
     "text": [
      "['123', '111123', '123333', '1222223']\n"
     ]
    }
   ],
   "source": [
    "pattern = \"[1-3]+\"\n",
    "string = 'abc123, aaabbcc111123, aaa123333bbccc, 1222223'\n",
    "match =re.findall(pattern, string)\n",
    "print(match)"
   ]
  },
  {
   "cell_type": "code",
   "execution_count": 6,
   "metadata": {},
   "outputs": [
    {
     "name": "stdout",
     "output_type": "stream",
     "text": [
      "['dmit', 'omit', 'rmit']\n"
     ]
    }
   ],
   "source": [
    "pattern = \"[dor]mit\"\n",
    "string = 'admit, commit, emit, omit, permit'\n",
    "match = re.findall(pattern, string)\n",
    "print(match)"
   ]
  },
  {
   "cell_type": "code",
   "execution_count": 7,
   "metadata": {},
   "outputs": [
    {
     "name": "stdout",
     "output_type": "stream",
     "text": [
      "['isaac', 'isaaaac', 'isaaac']\n"
     ]
    }
   ],
   "source": [
    "pattern = \"isa{2,5}c\"\n",
    "string = 'These are my friends kevin, andy, isaac, isac, isaaaac, isaaac,and maggie'\n",
    "match = re.findall(pattern, string)\n",
    "print(match)"
   ]
  },
  {
   "cell_type": "code",
   "execution_count": 8,
   "metadata": {},
   "outputs": [
    {
     "name": "stdout",
     "output_type": "stream",
     "text": [
      "['ABi', 'BBc', 'CNn']\n"
     ]
    }
   ],
   "source": [
    "pattern = \"[A-Z]+[a-z]\"\n",
    "string = 'ABi, BBc, CNn, ai, be, cd'\n",
    "match = re.findall(pattern, string)\n",
    "print(match)"
   ]
  },
  {
   "cell_type": "code",
   "execution_count": 9,
   "metadata": {},
   "outputs": [
    {
     "name": "stdout",
     "output_type": "stream",
     "text": [
      "['.ya', '.co', '.tw', '.nt', '.ed', '.tw', '.te', '.go', '.tw']\n"
     ]
    }
   ],
   "source": [
    "pattern = \"\\..{2}\"\n",
    "string = 'www.yahoo.com.tw , www.ntu.edu.tw , www.test.gov.tw'\n",
    "match = re.findall(pattern, string)\n",
    "print(match)"
   ]
  },
  {
   "cell_type": "code",
   "execution_count": 10,
   "metadata": {},
   "outputs": [
    {
     "name": "stdout",
     "output_type": "stream",
     "text": [
      "['I have a dream', \"I don't have to work\"]\n"
     ]
    }
   ],
   "source": [
    "pattern = \"I have a dream|I don't have to work\"\n",
    "string = 'I have a dream that I don\\'t have to work'\n",
    "match = re.findall(pattern, string)\n",
    "print(match)"
   ]
  },
  {
   "cell_type": "code",
   "execution_count": 12,
   "metadata": {},
   "outputs": [
    {
     "name": "stdout",
     "output_type": "stream",
     "text": [
      "['isaac60103@gmail.com', 'isaac60103@hotmail.com', 'kevin@yahoo.com']\n"
     ]
    }
   ],
   "source": [
    "pattern = \"([A-Za-z0-9._]+@[A-Za-z.]+)\"\n",
    "string = 'isaac60103@gmail.com, isaac60103@hotmail.com, kevin@yahoo.com'\n",
    "match = re.findall(pattern, string)\n",
    "print(match)"
   ]
  },
  {
   "cell_type": "code",
   "execution_count": null,
   "metadata": {},
   "outputs": [],
   "source": []
  }
 ],
 "metadata": {
  "kernelspec": {
   "display_name": "Python 3",
   "language": "python",
   "name": "python3"
  },
  "language_info": {
   "codemirror_mode": {
    "name": "ipython",
    "version": 3
   },
   "file_extension": ".py",
   "mimetype": "text/x-python",
   "name": "python",
   "nbconvert_exporter": "python",
   "pygments_lexer": "ipython3",
   "version": "3.6.10"
  }
 },
 "nbformat": 4,
 "nbformat_minor": 4
}
