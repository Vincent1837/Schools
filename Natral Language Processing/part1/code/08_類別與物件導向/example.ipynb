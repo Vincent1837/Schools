{
 "cells": [
  {
   "cell_type": "markdown",
   "metadata": {},
   "source": [
    "# Class"
   ]
  },
  {
   "cell_type": "code",
   "execution_count": 1,
   "metadata": {},
   "outputs": [
    {
     "name": "stdout",
     "output_type": "stream",
     "text": [
      "目前服務銀行是  Taipei Bank\n",
      "銀行服務理念是  以客為尊\n"
     ]
    }
   ],
   "source": [
    "class Banks():\n",
    "    ''' 定義銀行類別 '''\n",
    "    bankname = 'Taipei Bank'    # 定義屬性\n",
    "    def motto(self):            # 定義方法\n",
    "        return \"以客為尊\"\n",
    "\n",
    "userbank = Banks()              # 定義物件userbank\n",
    "print(\"目前服務銀行是 \", userbank.bankname)\n",
    "print(\"銀行服務理念是 \", userbank.motto())"
   ]
  },
  {
   "cell_type": "code",
   "execution_count": 2,
   "metadata": {},
   "outputs": [
    {
     "name": "stdout",
     "output_type": "stream",
     "text": [
      "hung  存款餘額是  100\n"
     ]
    }
   ],
   "source": [
    "class Banks():\n",
    "    ''' 定義銀行類別 '''\n",
    "    bankname = 'Taipei Bank'                # 定義屬性\n",
    "    def __init__(self, uname, money):       # 初始化方法\n",
    "        self.name = uname                   # 設定存款者名字\n",
    "        self.balance = money                # 設定所存的錢\n",
    "\n",
    "    def get_balance(self):                  # 獲得存款餘額\n",
    "        return self.balance\n",
    "\n",
    "hungbank = Banks('hung', 100)               # 定義物件hungbank\n",
    "print(hungbank.name, \" 存款餘額是 \", hungbank.get_balance())"
   ]
  },
  {
   "cell_type": "code",
   "execution_count": 3,
   "metadata": {},
   "outputs": [
    {
     "name": "stdout",
     "output_type": "stream",
     "text": [
      "hung  目前餘額:  100\n",
      "存款  300  完成\n",
      "hung  目前餘額:  400\n",
      "提款  200  完成\n",
      "hung  目前餘額:  200\n"
     ]
    }
   ],
   "source": [
    "class Banks():\n",
    "    ''' 定義銀行類別 '''\n",
    "    bankname = 'Taipei Bank'                # 定義屬性\n",
    "    def __init__(self, uname, money):       # 初始化方法\n",
    "        self.name = uname                   # 設定存款者名字\n",
    "        self.balance = money                # 設定所存的錢\n",
    "\n",
    "    def save_money(self, money):            # 設計存款方法\n",
    "        self.balance += money               # 執行存款\n",
    "        print(\"存款 \", money, \" 完成\")      # 列印存款完成\n",
    "\n",
    "    def withdraw_money(self, money):        # 設計提款方法\n",
    "        self.balance -= money               # 執行提款\n",
    "        print(\"提款 \", money, \" 完成\")      # 列印提款完成\n",
    "\n",
    "    def get_balance(self):                  # 獲得存款餘額\n",
    "        print(self.name, \" 目前餘額: \", self.balance)\n",
    "\n",
    "hungbank = Banks('hung', 100)               # 定義物件hungbank\n",
    "hungbank.get_balance()                      # 獲得存款餘額                \n",
    "hungbank.save_money(300)                    # 存款300元\n",
    "hungbank.get_balance()                      # 獲得存款餘額\n",
    "hungbank.withdraw_money(200)                # 提款200元\n",
    "hungbank.get_balance()                      # 獲得存款餘額"
   ]
  },
  {
   "cell_type": "code",
   "execution_count": 4,
   "metadata": {},
   "outputs": [
    {
     "name": "stdout",
     "output_type": "stream",
     "text": [
      "hung  目前餘額:  100\n",
      "john  目前餘額:  300\n",
      "存款  100  完成\n",
      "提款  150  完成\n",
      "hung  目前餘額:  200\n",
      "john  目前餘額:  150\n"
     ]
    }
   ],
   "source": [
    "\n",
    "class Banks():\n",
    "    ''' 定義銀行類別 '''\n",
    "    bankname = 'Taipei Bank'                # 定義屬性\n",
    "    def __init__(self, uname, money):       # 初始化方法\n",
    "        self.name = uname                   # 設定存款者名字\n",
    "        self.balance = money                # 設定所存的錢\n",
    "\n",
    "    def save_money(self, money):            # 設計存款方法\n",
    "        self.balance += money               # 執行存款\n",
    "        print(\"存款 \", money, \" 完成\")      # 列印存款完成\n",
    "\n",
    "    def withdraw_money(self, money):        # 設計提款方法\n",
    "        self.balance -= money               # 執行提款\n",
    "        print(\"提款 \", money, \" 完成\")      # 列印提款完成\n",
    "\n",
    "    def get_balance(self):                  # 獲得存款餘額\n",
    "        print(self.name, \" 目前餘額: \", self.balance)\n",
    "\n",
    "hungbank = Banks('hung', 100)               # 定義物件hungbank\n",
    "johnbank = Banks('john', 300)               # 定義物件johnbank\n",
    "hungbank.get_balance()                      # 獲得hung存款餘額                \n",
    "johnbank.get_balance()                      # 獲得john存款餘額\n",
    "hungbank.save_money(100)                    # hung存款100\n",
    "johnbank.withdraw_money(150)                # john提款150\n",
    "hungbank.get_balance()                      # 獲得hung存款餘額                \n",
    "johnbank.get_balance()                      # 獲得john存款餘額"
   ]
  },
  {
   "cell_type": "code",
   "execution_count": 5,
   "metadata": {},
   "outputs": [
    {
     "name": "stdout",
     "output_type": "stream",
     "text": [
      "目前開戶銀行  Taipei Bank\n",
      "hung  目前餘額:  0\n",
      "存款  100  完成\n",
      "hung  目前餘額:  100\n"
     ]
    }
   ],
   "source": [
    "\n",
    "class Banks():\n",
    "    ''' 定義銀行類別 '''\n",
    "\n",
    "    def __init__(self, uname):              # 初始化方法\n",
    "        self.name = uname                   # 設定存款者名字\n",
    "        self.balance = 0                    # 設定開戶金額是0\n",
    "        self.bankname = \"Taipei Bank\"       # 設定銀行名稱\n",
    "\n",
    "    def save_money(self, money):            # 設計存款方法\n",
    "        self.balance += money               # 執行存款\n",
    "        print(\"存款 \", money, \" 完成\")      # 列印存款完成\n",
    "\n",
    "    def withdraw_money(self, money):        # 設計提款方法\n",
    "        self.balance -= money               # 執行提款\n",
    "        print(\"提款 \", money, \" 完成\")      # 列印提款完成\n",
    "\n",
    "    def get_balance(self):                  # 獲得存款餘額\n",
    "        print(self.name, \" 目前餘額: \", self.balance)\n",
    "\n",
    "hungbank = Banks('hung')                    # 定義物件hungbank\n",
    "print(\"目前開戶銀行 \", hungbank.bankname)   # 列出目前開戶銀行\n",
    "hungbank.get_balance()                      # 獲得hung存款餘額                \n",
    "hungbank.save_money(100)                    # hung存款100\n",
    "hungbank.get_balance()                      # 獲得hung存款餘額                "
   ]
  },
  {
   "cell_type": "markdown",
   "metadata": {},
   "source": [
    "# Encapsulation"
   ]
  },
  {
   "cell_type": "code",
   "execution_count": 6,
   "metadata": {},
   "outputs": [
    {
     "name": "stdout",
     "output_type": "stream",
     "text": [
      "hung  目前餘額:  0\n",
      "hung  目前餘額:  10000\n"
     ]
    }
   ],
   "source": [
    "class Banks():\n",
    "    ''' 定義銀行類別 '''\n",
    "\n",
    "    def __init__(self, uname):              # 初始化方法\n",
    "        self.name = uname                   # 設定存款者名字\n",
    "        self.balance = 0                    # 設定開戶金額是0\n",
    "        self.bankname = \"Taipei Bank\"       # 設定銀行名稱\n",
    "\n",
    "    def save_money(self, money):            # 設計存款方法\n",
    "        self.balance += money               # 執行存款\n",
    "        print(\"存款 \", money, \" 完成\")      # 列印存款完成\n",
    "\n",
    "    def withdraw_money(self, money):        # 設計提款方法\n",
    "        self.balance -= money               # 執行提款\n",
    "        print(\"提款 \", money, \" 完成\")      # 列印提款完成\n",
    "\n",
    "    def get_balance(self):                  # 獲得存款餘額\n",
    "        print(self.name, \" 目前餘額: \", self.balance)\n",
    "\n",
    "hungbank = Banks('hung')                    # 定義物件hungbank\n",
    "hungbank.get_balance()\n",
    "hungbank.balance = 10000                    # 類別外直接竄改存款餘額\n",
    "hungbank.get_balance()"
   ]
  },
  {
   "cell_type": "code",
   "execution_count": 7,
   "metadata": {},
   "outputs": [
    {
     "name": "stdout",
     "output_type": "stream",
     "text": [
      "hung  目前餘額:  0\n",
      "hung  目前餘額:  0\n"
     ]
    }
   ],
   "source": [
    "class Banks():\n",
    "    ''' 定義銀行類別 '''\n",
    "\n",
    "    def __init__(self, uname):              # 初始化方法\n",
    "        self.__name = uname                 # 設定私有存款者名字\n",
    "        self.__balance = 0                  # 設定私有開戶金額是0\n",
    "        self.__bankname = \"Taipei Bank\"     # 設定私有銀行名稱\n",
    "\n",
    "    def save_money(self, money):            # 設計存款方法\n",
    "        self.__balance += money             # 執行存款\n",
    "        print(\"存款 \", money, \" 完成\")      # 列印存款完成\n",
    "\n",
    "    def withdraw_money(self, money):        # 設計提款方法\n",
    "        self.__balance -= money             # 執行提款\n",
    "        print(\"提款 \", money, \" 完成\")      # 列印提款完成\n",
    "\n",
    "    def get_balance(self):                  # 獲得存款餘額\n",
    "        print(self.__name, \" 目前餘額: \", self.__balance)\n",
    "\n",
    "hungbank = Banks('hung')                    # 定義物件hungbank\n",
    "hungbank.get_balance()\n",
    "hungbank.__balance = 10000                  # 類別外直接竄改存款餘額\n",
    "hungbank.get_balance()"
   ]
  },
  {
   "cell_type": "code",
   "execution_count": 8,
   "metadata": {},
   "outputs": [
    {
     "name": "stdout",
     "output_type": "stream",
     "text": [
      "50  美金可以兌換  1485  台幣\n"
     ]
    }
   ],
   "source": [
    "class Banks():\n",
    "    ''' 定義銀行類別 '''\n",
    "\n",
    "    def __init__(self, uname):              # 初始化方法\n",
    "        self.__name = uname                 # 設定私有存款者名字\n",
    "        self.__balance = 0                  # 設定私有開戶金額是0\n",
    "        self.__bankname = \"Taipei Bank\"     # 設定私有銀行名稱\n",
    "        self.__rate = 30                    # 預設美金與台幣換匯比例\n",
    "        self.__service_charge = 0.01        # 換匯的服務費\n",
    "\n",
    "    def save_money(self, money):            # 設計存款方法\n",
    "        self.__balance += money             # 執行存款\n",
    "        print(\"存款 \", money, \" 完成\")      # 列印存款完成\n",
    "\n",
    "    def withdraw_money(self, money):        # 設計提款方法\n",
    "        self.__balance -= money             # 執行提款\n",
    "        print(\"提款 \", money, \" 完成\")      # 列印提款完成\n",
    "\n",
    "    def get_balance(self):                  # 獲得存款餘額\n",
    "        print(self.__name, \" 目前餘額: \", self.__balance)\n",
    "\n",
    "    def usa_to_taiwan(self, usa_d):         # 美金兌換台幣方法\n",
    "        self.result = self.__cal_rate(usa_d)\n",
    "        return self.result\n",
    "\n",
    "    def __cal_rate(self,usa_d):             # 計算換匯這是私有方法\n",
    "        return int(usa_d * self.__rate * (1 - self.__service_charge))\n",
    "        \n",
    "hungbank = Banks('hung')                    # 定義物件hungbank\n",
    "usdallor = 50\n",
    "print(usdallor, \" 美金可以兌換 \", hungbank.usa_to_taiwan(usdallor), \" 台幣\") "
   ]
  },
  {
   "cell_type": "markdown",
   "metadata": {},
   "source": [
    "# Inheritance and Polymorphism"
   ]
  },
  {
   "cell_type": "code",
   "execution_count": 9,
   "metadata": {},
   "outputs": [
    {
     "name": "stdout",
     "output_type": "stream",
     "text": [
      "我住在台北\n",
      "我住在台北\n"
     ]
    }
   ],
   "source": [
    "class Father():\n",
    "    def hometown(self):\n",
    "        print('我住在台北')\n",
    "\n",
    "class Son(Father):\n",
    "    pass\n",
    "\n",
    "hung = Father()\n",
    "ivan = Son()\n",
    "hung.hometown()\n",
    "ivan.hometown()"
   ]
  },
  {
   "cell_type": "code",
   "execution_count": 10,
   "metadata": {},
   "outputs": [
    {
     "name": "stdout",
     "output_type": "stream",
     "text": [
      "存款  500  完成\n",
      "hung  目前餘額:  500\n"
     ]
    }
   ],
   "source": [
    "# ch12_10.py\n",
    "class Banks():\n",
    "    ''' 定義銀行類別 '''\n",
    "\n",
    "    def __init__(self, uname):              # 初始化方法\n",
    "        self.__name = uname                 # 設定私有存款者名字\n",
    "        self.__balance = 0                  # 設定私有開戶金額是0\n",
    "        self.__bankname = \"Taipei Bank\"     # 設定私有銀行名稱\n",
    "        self.__rate = 30                    # 預設美金與台幣換匯比例\n",
    "        self.__service_charge = 0.01        # 換匯的服務費\n",
    "\n",
    "    def save_money(self, money):            # 設計存款方法\n",
    "        self.__balance += money             # 執行存款\n",
    "        print(\"存款 \", money, \" 完成\")      # 列印存款完成\n",
    "\n",
    "    def withdraw_money(self, money):        # 設計提款方法\n",
    "        self.__balance -= money             # 執行提款\n",
    "        print(\"提款 \", money, \" 完成\")      # 列印提款完成\n",
    "\n",
    "    def get_balance(self):                  # 獲得存款餘額\n",
    "        print(self.__name, \" 目前餘額: \", self.__balance)\n",
    "\n",
    "    def usa_to_taiwan(self, usa_d):         # 美金兌換台幣方法\n",
    "        self.result = self.__cal_rate(usa_d)\n",
    "        return self.result\n",
    "\n",
    "    def __cal_rate(self,usa_d):             # 計算換匯這是私有方法\n",
    "        return int(usa_d * self.__rate * (1 - self.__service_charge))\n",
    "\n",
    "class Shilin_Banks(Banks):\n",
    "    # 定義士林分行\n",
    "    pass\n",
    "       \n",
    "hungbank = Shilin_Banks('hung')             # 定義物件hungbank\n",
    "hungbank.save_money(500)\n",
    "hungbank.get_balance()"
   ]
  },
  {
   "cell_type": "code",
   "execution_count": 11,
   "metadata": {},
   "outputs": [
    {
     "name": "stdout",
     "output_type": "stream",
     "text": [
      "父類別 :  台北市羅斯福路\n",
      "子類別 :  台北市羅斯福路\n"
     ]
    }
   ],
   "source": [
    "class Father():\n",
    "    def __init__(self):\n",
    "        self.__address = '台北市羅斯福路';\n",
    "    def getaddr(self):\n",
    "        return self.__address\n",
    "\n",
    "class Son(Father):\n",
    "    pass\n",
    "\n",
    "hung = Father()\n",
    "ivan = Son()\n",
    "print('父類別 : ',hung.getaddr())\n",
    "print('子類別 : ',ivan.getaddr())"
   ]
  },
  {
   "cell_type": "code",
   "execution_count": 12,
   "metadata": {},
   "outputs": [
    {
     "name": "stdout",
     "output_type": "stream",
     "text": [
      "isaac\n",
      "teacher isaac\n"
     ]
    }
   ],
   "source": [
    "class Person():\n",
    "    def __init__(self,name):\n",
    "        self.name = name\n",
    "class TeacherPerson(Person):\n",
    "    def __init__(self,name):\n",
    "        self.name = \"teacher \" + name\n",
    "\n",
    "my_name = Person(\"isaac\")\n",
    "t_my_name = TeacherPerson(\"isaac\")\n",
    "print(my_name.name)\n",
    "print(t_my_name.name)"
   ]
  },
  {
   "cell_type": "code",
   "execution_count": 13,
   "metadata": {},
   "outputs": [
    {
     "name": "stdout",
     "output_type": "stream",
     "text": [
      "我是老師\n",
      "我是律師\n"
     ]
    }
   ],
   "source": [
    "class Person():\n",
    "    def job(self):\n",
    "        print(\"我是老師\")\n",
    "    \n",
    "class LawerPerson(Person):\n",
    "    def job(self):\n",
    "        print(\"我是律師\")\n",
    "\n",
    "isaac = Person()\n",
    "andy = LawerPerson()\n",
    "isaac.job()\n",
    "andy.job()"
   ]
  },
  {
   "cell_type": "code",
   "execution_count": 14,
   "metadata": {},
   "outputs": [
    {
     "name": "stdout",
     "output_type": "stream",
     "text": [
      "lucy  is  5  years old.\n",
      "lucy  is running\n",
      "My pet lily  is  6  years old.\n",
      "My pet lily  is running\n"
     ]
    }
   ],
   "source": [
    "class Animals():\n",
    "    \"\"\"Animals類別, 這是基底類別 \"\"\"\n",
    "    def __init__(self, animal_name, animal_age ):\n",
    "        self.name = animal_name # 紀錄動物名稱\n",
    "        self.age = animal_age   # 紀錄動物年齡\n",
    "\n",
    "    def run(self):              # 輸出動物 is running\n",
    "        print(self.name, \" is running\")\n",
    "\n",
    "class Dogs(Animals):\n",
    "    \"\"\"Dogs類別, 這是Animal的衍生類別 \"\"\"\n",
    "    def __init__(self, dog_name, dog_age):\n",
    "        super().__init__('My pet ' + dog_name, dog_age)\n",
    "\n",
    "mycat = Animals('lucy', 5)      # 建立Animals物件以及測試\n",
    "print(mycat.name, ' is ', mycat.age, \" years old.\")\n",
    "mycat.run()\n",
    "\n",
    "mydog = Dogs('lily', 6)         # 建立Dogs物件以及測試\n",
    "print(mydog.name, ' is ', mydog.age, \" years old.\")\n",
    "mydog.run()"
   ]
  },
  {
   "cell_type": "code",
   "execution_count": 15,
   "metadata": {},
   "outputs": [
    {
     "name": "stdout",
     "output_type": "stream",
     "text": [
      "lucy  is  5  years old.\n",
      "lucy  is running\n",
      "My pet lily  is  6  years old.\n",
      "My pet lily  is running\n",
      "My pet is sleeping\n"
     ]
    }
   ],
   "source": [
    "class Animals():\n",
    "    \"\"\"Animals類別, 這是基底類別 \"\"\"\n",
    "    def __init__(self, animal_name, animal_age ):\n",
    "        self.name = animal_name # 紀錄動物名稱\n",
    "        self.age = animal_age   # 紀錄動物年齡\n",
    "\n",
    "    def run(self):              # 輸出動物 is running\n",
    "        print(self.name, \" is running\")\n",
    "\n",
    "class Dogs(Animals):\n",
    "    \"\"\"Dogs類別, 這是Animal的衍生類別 \"\"\"\n",
    "    def __init__(self, dog_name, dog_age):\n",
    "        super().__init__('My pet ' + dog_name, dog_age)\n",
    "    def sleeping(self):\n",
    "        print(\"My pet\", \"is sleeping\")\n",
    "\n",
    "mycat = Animals('lucy', 5)      # 建立Animals物件以及測試\n",
    "print(mycat.name, ' is ', mycat.age, \" years old.\")\n",
    "mycat.run()\n",
    "\n",
    "mydog = Dogs('lily', 6)         # 建立Dogs物件以及測試\n",
    "print(mydog.name, ' is ', mydog.age, \" years old.\")\n",
    "mydog.run()\n",
    "mydog.sleeping()"
   ]
  },
  {
   "attachments": {},
   "cell_type": "markdown",
   "metadata": {},
   "source": [
    "# Multiple-inheritance "
   ]
  },
  {
   "cell_type": "code",
   "execution_count": 19,
   "metadata": {},
   "outputs": [
    {
     "name": "stdout",
     "output_type": "stream",
     "text": [
      "Ivan\n",
      "Father\n",
      "Grandfather\n"
     ]
    }
   ],
   "source": [
    "class Grandfather():\n",
    "    \"\"\" 定義祖父類別 \"\"\"\n",
    "    def action1(self):\n",
    "        print(\"Grandfather\")\n",
    "        \n",
    "class Father(Grandfather):\n",
    "    \"\"\" 定義父親類別 \"\"\"\n",
    "    def action2(self):      # 定義action2()\n",
    "        print(\"Father\")\n",
    "\n",
    "class Uncle(Grandfather):\n",
    "    \"\"\" 定義叔父類別 \"\"\"\n",
    "    def action2(self):      # 定義action2()\n",
    "        print(\"Uncle\")\n",
    "\n",
    "class Ivan(Father, Uncle):\n",
    "    \"\"\" 定義Ivan類別 \"\"\"\n",
    "    def action3(self):\n",
    "        print(\"Ivan\")\n",
    "\n",
    "ivan = Ivan()\n",
    "ivan.action3()              # 順序 Ivan\n",
    "ivan.action2()              # 順序 Ivan -> Father\n",
    "ivan.action1()              # 順序 Ivan -> Father -> Grandfather"
   ]
  },
  {
   "cell_type": "code",
   "execution_count": null,
   "metadata": {},
   "outputs": [],
   "source": []
  }
 ],
 "metadata": {
  "kernelspec": {
   "display_name": "Python 3",
   "language": "python",
   "name": "python3"
  },
  "language_info": {
   "codemirror_mode": {
    "name": "ipython",
    "version": 3
   },
   "file_extension": ".py",
   "mimetype": "text/x-python",
   "name": "python",
   "nbconvert_exporter": "python",
   "pygments_lexer": "ipython3",
   "version": "3.6.10"
  }
 },
 "nbformat": 4,
 "nbformat_minor": 4
}
