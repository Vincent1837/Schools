{
 "cells": [
  {
   "cell_type": "markdown",
   "metadata": {},
   "source": [
    "# Lucky number\n",
    "# input a integer number, detect if the number is considered lucky. If the number is lucky, print \"lucky number\". If not, print \"regular number\"\n",
    "# Definition of lucky number: the sum of the first three digits equals the sum of the last three digits in a number."
   ]
  },
  {
   "cell_type": "code",
   "execution_count": 1,
   "metadata": {},
   "outputs": [
    {
     "name": "stdout",
     "output_type": "stream",
     "text": [
      "123321\n",
      "lucky number\n"
     ]
    }
   ],
   "source": [
    "b = int(input())\n",
    "s1 = b%10 + (b%100)//10 + (b%1000)//100\n",
    "s2 = (b%10000)//1000 + (b%100000)//10000 + b//100000\n",
    "if (s1 == s2):\n",
    "    print(\"lucky number\")\n",
    "else:\n",
    "    print(\"regular number\")"
   ]
  },
  {
   "cell_type": "code",
   "execution_count": 1,
   "metadata": {},
   "outputs": [
    {
     "name": "stdout",
     "output_type": "stream",
     "text": [
      "112301\n",
      "lucky number\n"
     ]
    }
   ],
   "source": [
    "b = input()\n",
    "\n",
    "s1 = int(b[0]) + int(b[1]) + int(b[2])\n",
    "s2 = int(b[-1]) + int(b[-2]) + int(b[-3])\n",
    "if (s1 == s2):\n",
    "    print(\"lucky number\")\n",
    "else:\n",
    "    print(\"regular number\")"
   ]
  },
  {
   "cell_type": "code",
   "execution_count": null,
   "metadata": {},
   "outputs": [],
   "source": []
  }
 ],
 "metadata": {
  "kernelspec": {
   "display_name": "Python 3",
   "language": "python",
   "name": "python3"
  },
  "language_info": {
   "codemirror_mode": {
    "name": "ipython",
    "version": 3
   },
   "file_extension": ".py",
   "mimetype": "text/x-python",
   "name": "python",
   "nbconvert_exporter": "python",
   "pygments_lexer": "ipython3",
   "version": "3.7.7"
  }
 },
 "nbformat": 4,
 "nbformat_minor": 4
}
