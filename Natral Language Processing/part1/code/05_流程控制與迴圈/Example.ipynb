{
 "cells": [
  {
   "cell_type": "markdown",
   "metadata": {},
   "source": [
    "# if/else/elif syntax"
   ]
  },
  {
   "cell_type": "code",
   "execution_count": 2,
   "metadata": {},
   "outputs": [
    {
     "name": "stdout",
     "output_type": "stream",
     "text": [
      "you have to practice more!!!\n"
     ]
    }
   ],
   "source": [
    "grade = 30\n",
    "\n",
    "if grade > 90:\n",
    "    print('excellent')\n",
    "else:\n",
    "    print('you have to practice more!!!')"
   ]
  },
  {
   "cell_type": "code",
   "execution_count": 4,
   "metadata": {},
   "outputs": [],
   "source": [
    "grade = 30\n",
    "\n",
    "if grade > 90:\n",
    "    print('excellent')\n",
    "if grade > 60:\n",
    "    print('good')"
   ]
  },
  {
   "cell_type": "code",
   "execution_count": 5,
   "metadata": {},
   "outputs": [
    {
     "name": "stdout",
     "output_type": "stream",
     "text": [
      "always execute!\n"
     ]
    }
   ],
   "source": [
    "grade = 20\n",
    "\n",
    "if grade > 90:\n",
    "    print('excellent')\n",
    "if grade > 60:\n",
    "    print('good')\n",
    "    \n",
    "print('always execute!')"
   ]
  },
  {
   "cell_type": "code",
   "execution_count": 9,
   "metadata": {},
   "outputs": [
    {
     "name": "stdout",
     "output_type": "stream",
     "text": [
      "you have to practice more!!!\n"
     ]
    }
   ],
   "source": [
    "grade = 0\n",
    "\n",
    "if grade > 90:\n",
    "    print('excellent')\n",
    "elif grade > 60:\n",
    "    print('good')\n",
    "elif grade > 30:\n",
    "    print('bad')\n",
    "else:\n",
    "    print('you have to practice more!!!')"
   ]
  },
  {
   "cell_type": "code",
   "execution_count": 3,
   "metadata": {},
   "outputs": [
    {
     "name": "stdout",
     "output_type": "stream",
     "text": [
      "At least one of the conditions is True\n"
     ]
    }
   ],
   "source": [
    "a = 200\n",
    "b = 33\n",
    "c = 500\n",
    "if a > b or a > c:\n",
    "    print(\"At least one of the conditions is True\")"
   ]
  },
  {
   "cell_type": "code",
   "execution_count": 4,
   "metadata": {},
   "outputs": [
    {
     "name": "stdout",
     "output_type": "stream",
     "text": [
      "Above ten,\n",
      "and also above 20!\n"
     ]
    }
   ],
   "source": [
    "x = 41\n",
    "\n",
    "if x > 10:\n",
    "    print(\"Above ten,\")\n",
    "    if x > 20:\n",
    "        print(\"and also above 20!\")\n",
    "    else:\n",
    "        print(\"but not above 20.\")"
   ]
  },
  {
   "cell_type": "markdown",
   "metadata": {},
   "source": [
    "# while loop"
   ]
  },
  {
   "cell_type": "code",
   "execution_count": 5,
   "metadata": {},
   "outputs": [
    {
     "name": "stdout",
     "output_type": "stream",
     "text": [
      "1\n",
      "2\n",
      "3\n",
      "4\n",
      "5\n"
     ]
    }
   ],
   "source": [
    "i = 1\n",
    "while i < 6:\n",
    "    print(i)\n",
    "    i += 1 # i = i + 1"
   ]
  },
  {
   "cell_type": "code",
   "execution_count": 6,
   "metadata": {},
   "outputs": [
    {
     "name": "stdout",
     "output_type": "stream",
     "text": [
      "num_sum: 0, i: 1\n",
      "num_sum: 1, i: 2\n",
      "num_sum: 3, i: 3\n",
      "num_sum: 6, i: 4\n",
      "num_sum: 10, i: 5\n",
      "num_sum: 15, i: 6\n",
      "num_sum: 21, i: 7\n",
      "num_sum: 28, i: 8\n",
      "num_sum: 36, i: 9\n",
      "num_sum: 45, i: 10\n",
      "num_sum: 55, i: 11\n",
      "num_sum: 66, i: 12\n",
      "num_sum: 78, i: 13\n",
      "num_sum: 91, i: 14\n",
      "num_sum: 105, i: 15\n",
      "num_sum: 120, i: 16\n",
      "num_sum: 136, i: 17\n",
      "num_sum: 153, i: 18\n",
      "num_sum: 171, i: 19\n",
      "num_sum: 190, i: 20\n",
      "num_sum: 210, i: 21\n",
      "num_sum: 231, i: 22\n",
      "num_sum: 253, i: 23\n",
      "num_sum: 276, i: 24\n",
      "num_sum: 300, i: 25\n",
      "num_sum: 325, i: 26\n",
      "num_sum: 351, i: 27\n",
      "num_sum: 378, i: 28\n",
      "num_sum: 406, i: 29\n",
      "num_sum: 435, i: 30\n",
      "num_sum: 465, i: 31\n",
      "num_sum: 496, i: 32\n",
      "num_sum: 528, i: 33\n",
      "num_sum: 561, i: 34\n",
      "num_sum: 595, i: 35\n",
      "num_sum: 630, i: 36\n",
      "num_sum: 666, i: 37\n",
      "num_sum: 703, i: 38\n",
      "num_sum: 741, i: 39\n",
      "num_sum: 780, i: 40\n",
      "num_sum: 820, i: 41\n",
      "num_sum: 861, i: 42\n",
      "num_sum: 903, i: 43\n",
      "num_sum: 946, i: 44\n",
      "num_sum: 990, i: 45\n",
      "num_sum: 1035, i: 46\n",
      "num_sum: 1081, i: 47\n",
      "num_sum: 1128, i: 48\n",
      "num_sum: 1176, i: 49\n",
      "num_sum: 1225, i: 50\n",
      "num_sum: 1275, i: 51\n",
      "num_sum: 1326, i: 52\n",
      "num_sum: 1378, i: 53\n",
      "num_sum: 1431, i: 54\n",
      "num_sum: 1485, i: 55\n",
      "num_sum: 1540, i: 56\n",
      "num_sum: 1596, i: 57\n",
      "num_sum: 1653, i: 58\n",
      "num_sum: 1711, i: 59\n",
      "num_sum: 1770, i: 60\n",
      "num_sum: 1830, i: 61\n",
      "num_sum: 1891, i: 62\n",
      "num_sum: 1953, i: 63\n",
      "num_sum: 2016, i: 64\n",
      "num_sum: 2080, i: 65\n",
      "num_sum: 2145, i: 66\n",
      "num_sum: 2211, i: 67\n",
      "num_sum: 2278, i: 68\n",
      "num_sum: 2346, i: 69\n",
      "num_sum: 2415, i: 70\n",
      "num_sum: 2485, i: 71\n",
      "num_sum: 2556, i: 72\n",
      "num_sum: 2628, i: 73\n",
      "num_sum: 2701, i: 74\n",
      "num_sum: 2775, i: 75\n",
      "num_sum: 2850, i: 76\n",
      "num_sum: 2926, i: 77\n",
      "num_sum: 3003, i: 78\n",
      "num_sum: 3081, i: 79\n",
      "num_sum: 3160, i: 80\n",
      "num_sum: 3240, i: 81\n",
      "num_sum: 3321, i: 82\n",
      "num_sum: 3403, i: 83\n",
      "num_sum: 3486, i: 84\n",
      "num_sum: 3570, i: 85\n",
      "num_sum: 3655, i: 86\n",
      "num_sum: 3741, i: 87\n",
      "num_sum: 3828, i: 88\n",
      "num_sum: 3916, i: 89\n",
      "num_sum: 4005, i: 90\n",
      "num_sum: 4095, i: 91\n",
      "num_sum: 4186, i: 92\n",
      "num_sum: 4278, i: 93\n",
      "num_sum: 4371, i: 94\n",
      "num_sum: 4465, i: 95\n",
      "num_sum: 4560, i: 96\n",
      "num_sum: 4656, i: 97\n",
      "num_sum: 4753, i: 98\n",
      "num_sum: 4851, i: 99\n",
      "num_sum: 4950, i: 100\n",
      "num_sum: 5050, i: 101\n",
      "1+2+......+100 = 5050\n"
     ]
    }
   ],
   "source": [
    "i = 0\n",
    "num_sum = 0\n",
    "while i <= 100:\n",
    "    num_sum = num_sum + i\n",
    "    i = i + 1\n",
    "    print('num_sum: {}, i: {}'.format(num_sum, i))\n",
    "print('1+2+......+100 = {}'.format(num_sum))"
   ]
  },
  {
   "cell_type": "code",
   "execution_count": 4,
   "metadata": {},
   "outputs": [
    {
     "name": "stdout",
     "output_type": "stream",
     "text": [
      "num_sum: 0, i: 0\n",
      "num_sum: 2, i: 2\n",
      "num_sum: 6, i: 4\n",
      "num_sum: 12, i: 6\n",
      "num_sum: 20, i: 8\n",
      "num_sum: 30, i: 10\n",
      "num_sum: 42, i: 12\n",
      "num_sum: 56, i: 14\n",
      "num_sum: 72, i: 16\n",
      "num_sum: 90, i: 18\n",
      "num_sum: 110, i: 20\n",
      "num_sum: 132, i: 22\n",
      "num_sum: 156, i: 24\n",
      "num_sum: 182, i: 26\n",
      "num_sum: 210, i: 28\n",
      "num_sum: 240, i: 30\n",
      "num_sum: 272, i: 32\n",
      "num_sum: 306, i: 34\n",
      "num_sum: 342, i: 36\n",
      "num_sum: 380, i: 38\n",
      "num_sum: 420, i: 40\n",
      "num_sum: 462, i: 42\n",
      "num_sum: 506, i: 44\n",
      "num_sum: 552, i: 46\n",
      "num_sum: 600, i: 48\n",
      "num_sum: 650, i: 50\n",
      "num_sum: 702, i: 52\n",
      "num_sum: 756, i: 54\n",
      "num_sum: 812, i: 56\n",
      "num_sum: 870, i: 58\n",
      "num_sum: 930, i: 60\n",
      "num_sum: 992, i: 62\n",
      "num_sum: 1056, i: 64\n",
      "num_sum: 1122, i: 66\n",
      "num_sum: 1190, i: 68\n",
      "num_sum: 1260, i: 70\n",
      "num_sum: 1332, i: 72\n",
      "num_sum: 1406, i: 74\n",
      "num_sum: 1482, i: 76\n",
      "num_sum: 1560, i: 78\n",
      "num_sum: 1640, i: 80\n",
      "num_sum: 1722, i: 82\n",
      "num_sum: 1806, i: 84\n",
      "num_sum: 1892, i: 86\n",
      "num_sum: 1980, i: 88\n",
      "num_sum: 2070, i: 90\n",
      "num_sum: 2162, i: 92\n",
      "num_sum: 2256, i: 94\n",
      "num_sum: 2352, i: 96\n",
      "num_sum: 2450, i: 98\n",
      "num_sum: 2550, i: 100\n",
      "2+4+6......+100 = 2550\n"
     ]
    }
   ],
   "source": [
    "i = 0\n",
    "num_sum = 0\n",
    "while i <= 100:\n",
    "    if i % 2 == 1:\n",
    "        i = i + 1\n",
    "        continue\n",
    "    num_sum = num_sum + i\n",
    "    print('num_sum: {}, i: {}'.format(num_sum, i))\n",
    "\n",
    "    i = i + 1\n",
    "print('2+4+6......+100 = {}'.format(num_sum))"
   ]
  },
  {
   "cell_type": "code",
   "execution_count": 5,
   "metadata": {},
   "outputs": [
    {
     "name": "stdout",
     "output_type": "stream",
     "text": [
      "1+2+......+100 = 5050\n"
     ]
    }
   ],
   "source": [
    "i = 0\n",
    "num_sum = 0\n",
    "while True:\n",
    "    if i > 100:\n",
    "        break\n",
    "    num_sum = num_sum + i\n",
    "    i = i + 1\n",
    "print('1+2+......+100 = {}'.format(num_sum))"
   ]
  },
  {
   "cell_type": "markdown",
   "metadata": {},
   "source": [
    "# for loop"
   ]
  },
  {
   "cell_type": "code",
   "execution_count": 4,
   "metadata": {},
   "outputs": [
    {
     "name": "stdout",
     "output_type": "stream",
     "text": [
      "0 1 2 3 4 5 6 7 8 9 "
     ]
    }
   ],
   "source": [
    "for i in range(10):\n",
    "    print(i, end=' ')"
   ]
  },
  {
   "cell_type": "code",
   "execution_count": 7,
   "metadata": {},
   "outputs": [
    {
     "name": "stdout",
     "output_type": "stream",
     "text": [
      "3 4 5 6 7 8 9 "
     ]
    }
   ],
   "source": [
    "for i in range(3, 10):\n",
    "    print(i, end=' ')"
   ]
  },
  {
   "cell_type": "code",
   "execution_count": 3,
   "metadata": {},
   "outputs": [
    {
     "name": "stdout",
     "output_type": "stream",
     "text": [
      "1 3 5 7 9 "
     ]
    }
   ],
   "source": [
    "for i in range(1, 10, 2):\n",
    "    print(i, end=' ')"
   ]
  },
  {
   "cell_type": "code",
   "execution_count": 5,
   "metadata": {},
   "outputs": [
    {
     "name": "stdout",
     "output_type": "stream",
     "text": [
      "10 -20 15 "
     ]
    }
   ],
   "source": [
    "my_list = [10, -20, 15]\n",
    "for i in my_list:\n",
    "    print(i, end=' ')"
   ]
  },
  {
   "cell_type": "code",
   "execution_count": 6,
   "metadata": {},
   "outputs": [
    {
     "name": "stdout",
     "output_type": "stream",
     "text": [
      "0 10\n",
      "1 -20\n",
      "2 15\n"
     ]
    }
   ],
   "source": [
    "my_list = [10, -20, 15]\n",
    "for index, i in enumerate(my_list):\n",
    "    print(index,i)"
   ]
  },
  {
   "cell_type": "code",
   "execution_count": 2,
   "metadata": {},
   "outputs": [
    {
     "name": "stdout",
     "output_type": "stream",
     "text": [
      "i s a a c "
     ]
    }
   ],
   "source": [
    "my_string ='isaac'\n",
    "for i in my_string:\n",
    "    print(i, end=' ')"
   ]
  },
  {
   "cell_type": "code",
   "execution_count": 3,
   "metadata": {},
   "outputs": [
    {
     "name": "stdout",
     "output_type": "stream",
     "text": [
      "1 abc hello "
     ]
    }
   ],
   "source": [
    "my_tuple =(1,'abc','hello')\n",
    "for i in my_tuple:\n",
    "    print(i, end=' ')"
   ]
  },
  {
   "cell_type": "markdown",
   "metadata": {},
   "source": [
    "# nested loop"
   ]
  },
  {
   "cell_type": "code",
   "execution_count": 18,
   "metadata": {},
   "outputs": [
    {
     "name": "stdout",
     "output_type": "stream",
     "text": [
      "\n",
      "* \n",
      "* * \n",
      "* * * \n",
      "* * * * \n",
      "* * * * * \n",
      "* * * * \n",
      "* * * \n",
      "* * \n",
      "* \n"
     ]
    }
   ],
   "source": [
    "n=5\n",
    "for i in range(n):\n",
    "    for j in range(i):\n",
    "#        print('i: {} , j: {}'.format(i,j))\n",
    "        print ('* ', end=\"\")\n",
    "    print('')\n",
    "\n",
    "for i in range(n,0,-1):\n",
    "    for j in range(i):\n",
    "        print('* ', end=\"\")\n",
    "    print('')"
   ]
  },
  {
   "cell_type": "code",
   "execution_count": 8,
   "metadata": {},
   "outputs": [
    {
     "name": "stdout",
     "output_type": "stream",
     "text": [
      "5\n",
      "4\n",
      "3\n",
      "2\n",
      "1\n"
     ]
    }
   ],
   "source": [
    "for i in range(5,0,-1):\n",
    "    print(i)\n"
   ]
  },
  {
   "cell_type": "code",
   "execution_count": 15,
   "metadata": {},
   "outputs": [
    {
     "name": "stdout",
     "output_type": "stream",
     "text": [
      "i: 0 , j: 0\n",
      "i: 0 , j: 1\n",
      "i: 0 , j: 2\n",
      "i: 1 , j: 0\n",
      "i: 1 , j: 1\n",
      "i: 1 , j: 2\n",
      "i: 2 , j: 0\n",
      "i: 2 , j: 1\n",
      "i: 2 , j: 2\n"
     ]
    }
   ],
   "source": [
    "n = 3\n",
    "for i in range(n):\n",
    "    for j in range(n):\n",
    "        print('i: {} , j: {}'.format(i,j))\n",
    "\n",
    "        #print('*', end='')\n",
    "    #print('')"
   ]
  },
  {
   "cell_type": "markdown",
   "metadata": {},
   "source": [
    "# list comprehension"
   ]
  },
  {
   "cell_type": "code",
   "execution_count": 19,
   "metadata": {},
   "outputs": [
    {
     "name": "stdout",
     "output_type": "stream",
     "text": [
      "[0, 1, 2, 3, 4, 5, 6, 7, 8, 9]\n"
     ]
    }
   ],
   "source": [
    "x = [i for i in range(10)]\n",
    "print(x)"
   ]
  },
  {
   "cell_type": "code",
   "execution_count": 20,
   "metadata": {},
   "outputs": [
    {
     "name": "stdout",
     "output_type": "stream",
     "text": [
      "[0, 5, 10, 15, 20, 25, 30, 35, 40, 45]\n"
     ]
    }
   ],
   "source": [
    "x = [i for i in range(50) if i % 5 ==0]\n",
    "print(x)"
   ]
  },
  {
   "cell_type": "code",
   "execution_count": 10,
   "metadata": {},
   "outputs": [
    {
     "name": "stdout",
     "output_type": "stream",
     "text": [
      "please make guess during 1~6: 2\n",
      "smaller than answer\n",
      "please make guess during 1~6: 5\n",
      "bigger than answer\n",
      "please make guess during 1~6: 3\n",
      "bingo\n"
     ]
    }
   ],
   "source": [
    "answer = 3\n",
    "guess = 0\n",
    "\n",
    "while guess!=answer:\n",
    "    guess = int(input('please make guess during 1~6: '))\n",
    "    if guess > answer:\n",
    "        print('bigger than answer')\n",
    "    elif guess < answer:\n",
    "        print('smaller than answer')\n",
    "    else:\n",
    "        print('bingo')"
   ]
  },
  {
   "cell_type": "code",
   "execution_count": null,
   "metadata": {},
   "outputs": [],
   "source": []
  }
 ],
 "metadata": {
  "kernelspec": {
   "display_name": "Python 3",
   "language": "python",
   "name": "python3"
  },
  "language_info": {
   "codemirror_mode": {
    "name": "ipython",
    "version": 3
   },
   "file_extension": ".py",
   "mimetype": "text/x-python",
   "name": "python",
   "nbconvert_exporter": "python",
   "pygments_lexer": "ipython3",
   "version": "3.8.10"
  }
 },
 "nbformat": 4,
 "nbformat_minor": 4
}
