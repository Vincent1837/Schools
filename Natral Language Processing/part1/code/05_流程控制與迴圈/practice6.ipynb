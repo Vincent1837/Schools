{
 "cells": [
  {
   "cell_type": "markdown",
   "metadata": {},
   "source": [
    "# input a number greater than 1, detect if this number is prime number or not\n",
    "## if it is prime number, print \"this is a prime number\"\n",
    "## if it is not prime number ,print \"this is not a prime number\""
   ]
  },
  {
   "cell_type": "code",
   "execution_count": 7,
   "metadata": {},
   "outputs": [
    {
     "name": "stdout",
     "output_type": "stream",
     "text": [
      "15 is not a prime number\n"
     ]
    }
   ],
   "source": [
    "num = 15\n",
    "  \n",
    "## write your code here"
   ]
  },
  {
   "cell_type": "markdown",
   "metadata": {},
   "source": [
    "# Given a test string, please switch this string to lower and  calculate frequency of each character"
   ]
  },
  {
   "cell_type": "code",
   "execution_count": 9,
   "metadata": {},
   "outputs": [
    {
     "name": "stdout",
     "output_type": "stream",
     "text": [
      "{'h': 1, 'e': 4, 'l': 2, 'o': 3, ',': 1, ' ': 7, 'i': 3, 'a': 3, 'm': 2, 's': 1, 'c': 2, '.': 1, 'n': 1, 't': 2, 'y': 1, 'u': 1}\n"
     ]
    }
   ],
   "source": [
    "\n",
    "test_str = 'hello, I am isaac. Nice to meet you'\n",
    "\n",
    "## write your code here"
   ]
  },
  {
   "cell_type": "markdown",
   "metadata": {},
   "source": [
    "# Find the longest word in the list"
   ]
  },
  {
   "cell_type": "code",
   "execution_count": 12,
   "metadata": {},
   "outputs": [
    {
     "name": "stdout",
     "output_type": "stream",
     "text": [
      "the longest word is the list is: christina\n"
     ]
    }
   ],
   "source": [
    "my_list = ['isaac', 'judy', 'christina', 'ann']\n",
    "\n",
    "## write your code here\n",
    "\n",
    "print('the longest word is the list is: {}'.format(max_long_word))"
   ]
  },
  {
   "cell_type": "code",
   "execution_count": null,
   "metadata": {},
   "outputs": [],
   "source": []
  }
 ],
 "metadata": {
  "kernelspec": {
   "display_name": "Python 3",
   "language": "python",
   "name": "python3"
  },
  "language_info": {
   "codemirror_mode": {
    "name": "ipython",
    "version": 3
   },
   "file_extension": ".py",
   "mimetype": "text/x-python",
   "name": "python",
   "nbconvert_exporter": "python",
   "pygments_lexer": "ipython3",
   "version": "3.7.7"
  }
 },
 "nbformat": 4,
 "nbformat_minor": 4
}
