{
 "cells": [
  {
   "cell_type": "markdown",
   "metadata": {},
   "source": [
    "# Given two vector, calculate distance between them"
   ]
  },
  {
   "cell_type": "code",
   "execution_count": 4,
   "metadata": {},
   "outputs": [
    {
     "name": "stdout",
     "output_type": "stream",
     "text": [
      "distance is: 3.0\n"
     ]
    }
   ],
   "source": [
    "vector1 = [1, 2, 1]\n",
    "vector2 = [3, 4, 2]\n",
    "diff_sum = 0\n",
    "\n",
    "for i in range(len(vector1)):\n",
    "    diff_sum = diff_sum + (vector1[i] - vector2[i])**2\n",
    "\n",
    "distance = diff_sum ** 0.5\n",
    "print('distance is: {}'.format(distance))"
   ]
  },
  {
   "cell_type": "markdown",
   "metadata": {},
   "source": [
    "# Ask the user for a string and print out whether this string is a palindrome or not. (A palindrome is a string that reads the same forwards and backwards.)"
   ]
  },
  {
   "cell_type": "code",
   "execution_count": 1,
   "metadata": {},
   "outputs": [
    {
     "name": "stdout",
     "output_type": "stream",
     "text": [
      "give me a word:\n",
      "isaac\n",
      "caasi\n",
      "This is NOT a Palindrome\n"
     ]
    }
   ],
   "source": [
    "word = input('give me a word:\\n')\n",
    "reverse_word = ''\n",
    "for i in range(len(word)):\n",
    "    reverse_word += word[len(word)-1-i]\n",
    "\n",
    "print(reverse_word)\n",
    "if reverse_word == word:\n",
    "    print('This is a Palindrome')\n",
    "else:\n",
    "    print('This is NOT a Palindrome')"
   ]
  },
  {
   "cell_type": "code",
   "execution_count": null,
   "metadata": {},
   "outputs": [],
   "source": []
  }
 ],
 "metadata": {
  "kernelspec": {
   "display_name": "Python 3",
   "language": "python",
   "name": "python3"
  },
  "language_info": {
   "codemirror_mode": {
    "name": "ipython",
    "version": 3
   },
   "file_extension": ".py",
   "mimetype": "text/x-python",
   "name": "python",
   "nbconvert_exporter": "python",
   "pygments_lexer": "ipython3",
   "version": "3.7.7"
  }
 },
 "nbformat": 4,
 "nbformat_minor": 4
}
