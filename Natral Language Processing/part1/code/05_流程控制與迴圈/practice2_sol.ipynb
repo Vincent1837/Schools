{
 "cells": [
  {
   "cell_type": "markdown",
   "metadata": {},
   "source": [
    "# input a character,  detect if this character is uppercase/lowercase/number or special character. \n",
    "## if character is uppercase, print \"Uppercase character.\"\n",
    "## if character is lowercase, print \"Lowercase character.\"\n",
    "## if character is digit, print \"digit.\"\n",
    "## if character is special character, print \"Special characters.\"\n",
    "\n",
    "\n",
    "## hint: use ord()"
   ]
  },
  {
   "cell_type": "code",
   "execution_count": 1,
   "metadata": {},
   "outputs": [
    {
     "name": "stdout",
     "output_type": "stream",
     "text": [
      "please enter a char: &\n",
      "Special characters.\n"
     ]
    }
   ],
   "source": [
    "ch = input('please enter a char: ')\n",
    "if ord(ch) >= ord('A') and ord(ch) <= ord('Z'):\n",
    "    print('Uppercase character.')\n",
    "    \n",
    "elif ord(ch) >= ord('a') and ord(ch) <= ord('z'):\n",
    "    print('Lowercase character.')\n",
    "    \n",
    "elif ord(ch) >= ord('0') and ord(ch) <= ord('9'):\n",
    "    print('Digit.')\n",
    "    \n",
    "else:\n",
    "    print('Special characters.')"
   ]
  },
  {
   "cell_type": "markdown",
   "metadata": {},
   "source": [
    "# input a year (ex: 2020) and then check it is leap year or not."
   ]
  },
  {
   "cell_type": "code",
   "execution_count": 6,
   "metadata": {},
   "outputs": [
    {
     "name": "stdout",
     "output_type": "stream",
     "text": [
      "please enter year in YYYY: 2021\n",
      "2021 is not leap year\n"
     ]
    }
   ],
   "source": [
    "# Nested if statement\n",
    "year = input('please enter year in YYYY: ')\n",
    "r4 = int(year)%4\n",
    "r100 = int(year)%100\n",
    "r400 = int(year)%400\n",
    "\n",
    "if r4 ==0:\n",
    "    if r100 !=0 or r400 ==0:\n",
    "        print('{} is leap year'.format(year))\n",
    "    else:\n",
    "        print('{} is not leap year'.format(year))\n",
    "else:\n",
    "    print('{} is not leap year'.format(year))"
   ]
  },
  {
   "cell_type": "code",
   "execution_count": null,
   "metadata": {},
   "outputs": [],
   "source": []
  }
 ],
 "metadata": {
  "kernelspec": {
   "display_name": "Python 3",
   "language": "python",
   "name": "python3"
  },
  "language_info": {
   "codemirror_mode": {
    "name": "ipython",
    "version": 3
   },
   "file_extension": ".py",
   "mimetype": "text/x-python",
   "name": "python",
   "nbconvert_exporter": "python",
   "pygments_lexer": "ipython3",
   "version": "3.7.7"
  }
 },
 "nbformat": 4,
 "nbformat_minor": 4
}
