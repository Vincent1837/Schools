{
 "cells": [
  {
   "cell_type": "markdown",
   "metadata": {},
   "source": [
    "# Write a Python function to find combination M choose N"
   ]
  },
  {
   "cell_type": "code",
   "execution_count": 8,
   "metadata": {},
   "outputs": [
    {
     "name": "stdout",
     "output_type": "stream",
     "text": [
      "10.0\n"
     ]
    }
   ],
   "source": [
    "def factorial(n):\n",
    "    fact = 1\n",
    "  \n",
    "    for i in range(1,n+1): \n",
    "        fact = fact * i \n",
    "    return fact\n",
    "\n",
    "def combination(m, n):\n",
    "    return factorial(m)/(factorial(n)*factorial(m-n))\n",
    "\n",
    "print(combination(5,3))"
   ]
  },
  {
   "cell_type": "markdown",
   "metadata": {},
   "source": [
    "# Given an array of distinct positive numbers, the task is to calculate the number of subsets (or subsequences) from the array such that each subset contains consecutive numbers  \n",
    "  \n",
    "Input :  arr[] = {100, 56, 5, 6, 102, 58, 101, 57, 7, 103, 59}  \n",
    "Output : 3  \n",
    "{5, 6, 7}, { 56, 57, 58, 59}, {100, 101, 102, 103} are 3 subset in which numbers are consecutive.  \n",
    "  \n",
    "Input :  arr[] = {10, 100, 105}  \n",
    "Output : 3  \n",
    "{10}, {100} and {105} are 3 subset in which numbers are consecutive."
   ]
  },
  {
   "cell_type": "code",
   "execution_count": 11,
   "metadata": {},
   "outputs": [
    {
     "name": "stdout",
     "output_type": "stream",
     "text": [
      "3\n"
     ]
    }
   ],
   "source": [
    "def numofsubset(arr, n): \n",
    "    x = sorted(arr) \n",
    "    count = 1\n",
    "    for i in range(0, n-1):\n",
    "        if (x[i] + 1 != x[i + 1]): \n",
    "            count = count + 1\n",
    "    return count\n",
    "\n",
    "arr = [ 100, 56, 5, 6, 102, 58, 101, 57, 7, 103, 59 ] \n",
    "n = len(arr) \n",
    "print(numofsubset(arr, n)) "
   ]
  },
  {
   "cell_type": "markdown",
   "metadata": {},
   "source": [
    "# Take two lists and write a program that returns a list that contains only the elements that are common between these two lists (without duplicates). Make sure your program works on two lists of different sizes."
   ]
  },
  {
   "cell_type": "code",
   "execution_count": 14,
   "metadata": {},
   "outputs": [
    {
     "name": "stdout",
     "output_type": "stream",
     "text": [
      "Equal numbers : {1, 2, 3, 5, 8, 13}\n"
     ]
    }
   ],
   "source": [
    "a_arr = [1, 1, 2, 3, 5, 8, 13, 21, 34, 55, 89]\n",
    "b_arr = [1, 2, 3, 4, 5, 6, 7, 8, 9, 10, 11, 12, 13]\n",
    "\n",
    "def common_elements(a_arr, b_arr):\n",
    "    equal_set = set(a_arr) & set(b_arr)\n",
    "    return equal_set\n",
    "\n",
    "print('Equal numbers : {}'.format(common_elements(a_arr, b_arr)))"
   ]
  },
  {
   "cell_type": "code",
   "execution_count": null,
   "metadata": {},
   "outputs": [],
   "source": []
  }
 ],
 "metadata": {
  "kernelspec": {
   "display_name": "Python 3",
   "language": "python",
   "name": "python3"
  },
  "language_info": {
   "codemirror_mode": {
    "name": "ipython",
    "version": 3
   },
   "file_extension": ".py",
   "mimetype": "text/x-python",
   "name": "python",
   "nbconvert_exporter": "python",
   "pygments_lexer": "ipython3",
   "version": "3.6.10"
  }
 },
 "nbformat": 4,
 "nbformat_minor": 4
}
